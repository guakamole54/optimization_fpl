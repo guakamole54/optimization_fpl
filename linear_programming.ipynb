{
 "cells": [
  {
   "cell_type": "markdown",
   "metadata": {},
   "source": [
    "# 1. Load data"
   ]
  },
  {
   "cell_type": "code",
   "execution_count": 1,
   "metadata": {},
   "outputs": [],
   "source": [
    "import pandas as pd\n",
    "\n",
    "df = pd.read_pickle(\"data/final_data.pkl\")\n",
    "\n",
    "# Set some pandas options for viewing datasets\n",
    "pd.set_option(\"display.max_columns\", None)\n",
    "pd.options.mode.chained_assignment = None\n",
    "\n",
    "\n",
    "# df[df['name'] == 'Erling Haaland'].head()"
   ]
  },
  {
   "cell_type": "markdown",
   "metadata": {},
   "source": [
    "# 2. Linear programming model - functions\n",
    "\n",
    "Now we finally build the LP model. I firstly select the 15 players for the initial squad and then the 11 players starting squad. \n",
    "\n",
    "Initial squad rules:\n",
    "- Max 1000 cost.\n",
    "- Exactly 15 players.\n",
    "- Max 3 players from the same team.\n",
    "- 2 GKs\n",
    "- 5 DEFs\n",
    "- 5 MIDs\n",
    "- 3 FWDs\n",
    "\n",
    "Final 11 squad rules:\n",
    "- Exactly 11 players\n",
    "- 1 GK\n",
    "- 3 +\n",
    "- 1 +"
   ]
  },
  {
   "cell_type": "code",
   "execution_count": 2,
   "metadata": {},
   "outputs": [],
   "source": [
    "# Linear programming model\n",
    "import pulp\n",
    "\n",
    "def select_initial_squad(df: pd.DataFrame, optimize_for=\"total_points\", return_team=False):\n",
    "    \"\"\"\n",
    "    Selecting the initial squad consisting of 15 players (2 GK, 5 DEF, 5 MID, 3 FWD).\n",
    "    Consting up to 1000 (100 mil.). Containing maximum of 3 players from a particular team.\n",
    "    \n",
    "    Optionally a metric to optimize for can be chosen.\n",
    "    \"\"\"\n",
    "\n",
    "    df.reset_index(inplace=True, drop=True)\n",
    "    num_players = len(df)\n",
    "    model = pulp.LpProblem(\"Squad_selection_FPL_initial\", pulp.LpMaximize)\n",
    "    # Binary variable denoting if a player is selected or not\n",
    "    decisions = [\n",
    "        pulp.LpVariable(f\"x{i}\", lowBound=0, upBound=1, cat=\"Integer\")\n",
    "        for i in range(num_players)\n",
    "    ]\n",
    "\n",
    "    # Objective function\n",
    "    model += (\n",
    "        sum(\n",
    "            decisions[i]\n",
    "            * (\n",
    "                df[\"xP_inter\"][i]\n",
    "                + df[\"expected_goals\"][i]\n",
    "                + df[\"expected_assists\"][i]\n",
    "                + df[\"expected_goal_involvements\"][i]\n",
    "                - df[\"expected_goals_conceded\"][i]\n",
    "                + df[\"rolling_total_points_3gw\"][i]\n",
    "                - df['fix_difficulty'][i]\n",
    "            )\n",
    "            for i in range(num_players)\n",
    "        ),\n",
    "        \"Objective function\",\n",
    "    )\n",
    "\n",
    "    # Cost constraint\n",
    "    model += sum(decisions[i] * df[\"value\"][i] for i in range(num_players)) <= 1000\n",
    "\n",
    "    # Total team size\n",
    "    model += sum(decisions) == 15 \n",
    "\n",
    "    # Number of players from 1 team constraint\n",
    "    for team in df[\"team\"].unique():\n",
    "        model += sum(decisions[i] for i in range(num_players) if df[\"team\"][i] == team) <= 3\n",
    "\n",
    "    # Player positions constraints\n",
    "    model += sum(decisions[i] for i in range(num_players) if df[\"position\"][i] == \"GK\") == 2\n",
    "    model += sum(decisions[i] for i in range(num_players) if df[\"position\"][i] == \"DEF\") == 5\n",
    "    model += sum(decisions[i] for i in range(num_players) if df[\"position\"][i] == \"MID\") == 5\n",
    "    model += sum(decisions[i] for i in range(num_players) if df[\"position\"][i] == \"FWD\") == 3\n",
    "\n",
    "    model.solve()\n",
    "\n",
    "    if return_team:\n",
    "        selected_team = [int(i.name[1:]) for i in model.variables() if i.value() > 0.0]\n",
    "\n",
    "        return df[df.index.isin(selected_team)]\n",
    "\n",
    "\n",
    "def select_starting_eleven(df: pd.DataFrame, optimize_for='total_points', return_team=False):\n",
    "    \"\"\"\n",
    "    Selecting the starting squad consisting of 11 players (1 GK, min 3 DEF, min 0 MID, min 1 FWD).\n",
    "\n",
    "    Optionally a metric to optimize for can be chosen.\n",
    "    \"\"\"\n",
    "\n",
    "    df.reset_index(inplace=True, drop=True)\n",
    "    num_players = len(df)\n",
    "    model = pulp.LpProblem(\"Squad_selection_FPL_final\", pulp.LpMaximize)\n",
    "\n",
    "    decisions = [\n",
    "        pulp.LpVariable(f\"x{i}\", lowBound=0, upBound=1, cat=\"Integer\")\n",
    "        for i in range(num_players)\n",
    "    ]\n",
    "\n",
    "    model += (\n",
    "        sum(\n",
    "            decisions[i]\n",
    "            * (\n",
    "                df[\"xP_inter\"][i]\n",
    "                + df[\"expected_goals\"][i]\n",
    "                + df[\"expected_assists\"][i]\n",
    "                + df[\"expected_goal_involvements\"][i]\n",
    "                - df[\"expected_goals_conceded\"][i]\n",
    "                + df[\"rolling_total_points_3gw\"][i]\n",
    "                - df['fix_difficulty'][i]\n",
    "            )\n",
    "            for i in range(num_players)\n",
    "        ),\n",
    "        \"Objective function\",\n",
    "    )\n",
    "\n",
    "    # Total team size\n",
    "    model += sum(decisions) == 11\n",
    "    model += (\n",
    "        sum(decisions[i] for i in range(num_players) if df[\"position\"][i] == \"GK\") == 1\n",
    "    )\n",
    "    model += (\n",
    "        sum(decisions[i] for i in range(num_players) if df[\"position\"][i] == \"DEF\") >= 3\n",
    "    )\n",
    "    model += (\n",
    "        sum(decisions[i] for i in range(num_players) if df[\"position\"][i] == \"FWD\") >= 1\n",
    "    )\n",
    "\n",
    "    model.solve()\n",
    "\n",
    "    if return_team:\n",
    "        selected_team = [int(i.name[1:]) for i in model.variables() if i.value() > 0.0]\n",
    "\n",
    "        return df[df.index.isin(selected_team)]"
   ]
  },
  {
   "cell_type": "markdown",
   "metadata": {},
   "source": [
    "# 3. Run the model\n",
    "\n",
    "We run the model with the selected metrics to predict the best squad for each game week. We cache the results and compare them with pre-calculated ideal team for each GW. This pre-calculated team is stored in memory and loaded when the model runs. It is calculated as a selection of best players (real points wise) from each game week, so it reflects the best possible squad attainable for the particular game week - the so called team of the week (TOTW)."
   ]
  },
  {
   "cell_type": "code",
   "execution_count": 3,
   "metadata": {},
   "outputs": [
    {
     "name": "stdout",
     "output_type": "stream",
     "text": [
      "GW 1 totw: 127 pred: 124 rmse: 3.0 mae: 3.0 mape: 0.02\n",
      "GW 2 totw: 131 pred: 93 rmse: 26.95 mae: 20.5 mape: 0.16\n",
      "GW 3 totw: 141 pred: 93 rmse: 35.39 mae: 29.67 mape: 0.22\n",
      "GW 4 totw: 142 pred: 91 rmse: 39.87 mae: 35.0 mape: 0.25\n",
      "GW 5 totw: 109 pred: 65 rmse: 40.73 mae: 36.8 mape: 0.28\n",
      "GW 6 totw: 140 pred: 101 rmse: 40.45 mae: 37.17 mape: 0.28\n",
      "GW 7 totw: 144 pred: 125 rmse: 38.13 mae: 34.57 mape: 0.26\n",
      "GW 8 totw: 136 pred: 92 rmse: 38.91 mae: 35.75 mape: 0.27\n",
      "GW 9 totw: 137 pred: 83 rmse: 40.86 mae: 37.78 mape: 0.28\n",
      "GW 10 totw: 132 pred: 100 rmse: 40.06 mae: 37.2 mape: 0.28\n",
      "GW 11 totw: 150 pred: 88 rmse: 42.53 mae: 39.45 mape: 0.29\n",
      "GW 12 totw: 140 pred: 95 rmse: 42.74 mae: 39.92 mape: 0.29\n",
      "GW 13 totw: 129 pred: 93 rmse: 42.26 mae: 39.62 mape: 0.29\n",
      "GW 14 totw: 127 pred: 74 rmse: 43.12 mae: 40.57 mape: 0.3\n",
      "GW 15 totw: 144 pred: 110 rmse: 42.57 mae: 40.13 mape: 0.3\n",
      "GW 16 totw: 131 pred: 100 rmse: 41.94 mae: 39.56 mape: 0.29\n",
      "GW 17 totw: 138 pred: 95 rmse: 42.0 mae: 39.76 mape: 0.29\n",
      "GW 18 totw: 117 pred: 76 rmse: 41.95 mae: 39.83 mape: 0.3\n",
      "GW 19 totw: 138 pred: 107 rmse: 41.44 mae: 39.37 mape: 0.29\n",
      "GW 20 totw: 143 pred: 98 rmse: 41.63 mae: 39.65 mape: 0.29\n",
      "GW 21 totw: 132 pred: 87 rmse: 41.8 mae: 39.9 mape: 0.3\n",
      "GW 22 totw: 153 pred: 131 rmse: 41.1 mae: 39.09 mape: 0.29\n",
      "GW 23 totw: 154 pred: 103 rmse: 41.58 mae: 39.61 mape: 0.29\n",
      "GW 24 totw: 141 pred: 72 rmse: 43.07 mae: 40.83 mape: 0.3\n",
      "GW 25 totw: 151 pred: 108 rmse: 43.07 mae: 40.92 mape: 0.3\n",
      "GW 26 totw: 140 pred: 95 rmse: 43.15 mae: 41.08 mape: 0.3\n",
      "GW 27 totw: 138 pred: 83 rmse: 43.64 mae: 41.59 mape: 0.3\n",
      "GW 28 totw: 134 pred: 90 rmse: 43.66 mae: 41.68 mape: 0.3\n",
      "GW 29 totw: 96 pred: 64 rmse: 43.31 mae: 41.34 mape: 0.31\n",
      "GW 30 totw: 140 pred: 93 rmse: 43.44 mae: 41.53 mape: 0.31\n",
      "GW 31 totw: 135 pred: 119 rmse: 42.83 mae: 40.71 mape: 0.3\n",
      "GW 32 totw: 126 pred: 63 rmse: 43.6 mae: 41.41 mape: 0.31\n",
      "GW 33 totw: 161 pred: 133 rmse: 43.21 mae: 41.0 mape: 0.3\n",
      "GW 34 totw: 205 pred: 165 rmse: 43.12 mae: 40.97 mape: 0.3\n",
      "GW 35 totw: 148 pred: 97 rmse: 43.36 mae: 41.26 mape: 0.3\n",
      "GW 36 totw: 158 pred: 107 rmse: 43.59 mae: 41.53 mape: 0.3\n",
      "GW 37 totw: 155 pred: 112 rmse: 43.58 mae: 41.57 mape: 0.3\n",
      "GW 38 totw: 165 pred: 124 rmse: 43.51 mae: 41.55 mape: 0.3\n"
     ]
    }
   ],
   "source": [
    "from sklearn.metrics import root_mean_squared_error, mean_absolute_error, mean_absolute_percentage_error\n",
    "import time\n",
    "\n",
    "# Load the team of the week benchmark data\n",
    "with open(\"data/totw_points.txt\", \"r\") as file:\n",
    "\n",
    "    totw_points = [int(line.strip()) for line in file]\n",
    "\n",
    "pred_points = []\n",
    "rmse = []\n",
    "l_mae = []\n",
    "l_mape = []\n",
    "infer_times = []\n",
    "squads = {'players': []}\n",
    "\n",
    "\n",
    "for i in range(1, 39):\n",
    "\n",
    "    df_ = df[(df[\"GW\"] == i)]\n",
    "    \n",
    "    start = start_time = time.time()\n",
    "    gw_pred_bench = select_initial_squad(df_, optimize_for=\"xP_inter\", return_team=True)\n",
    "    gw_pred = select_starting_eleven(gw_pred_bench, optimize_for=\"xP_inter\", return_team=True)\n",
    "    infer_time = time.time() - start_time\n",
    "    infer_times.append(infer_time)\n",
    "    \n",
    "    squads[\"players\"].append(gw_pred)\n",
    "    pred_points.append(gw_pred.total_points.sum())\n",
    "\n",
    "    mse = root_mean_squared_error(totw_points[:i], pred_points)\n",
    "    mae = mean_absolute_error(totw_points[:i], pred_points)\n",
    "    mape = mean_absolute_percentage_error(totw_points[:i], pred_points)\n",
    "    rmse.append(mse)\n",
    "    l_mae.append(mae)\n",
    "    l_mape.append(mape)\n",
    "\n",
    "    print(f\"GW {i} totw: {totw_points[i-1]} pred: {gw_pred.total_points.sum()} rmse: {round(mse, 2)} mae: {round(mae, 2)} mape: {round(mape, 2)}\")"
   ]
  },
  {
   "cell_type": "markdown",
   "metadata": {},
   "source": [
    "# 4. Visualization of the run"
   ]
  },
  {
   "cell_type": "code",
   "execution_count": 9,
   "metadata": {},
   "outputs": [
    {
     "data": {
      "image/png": "[encoded data removed]",
      "text/plain": [
       "<Figure size 1000x600 with 2 Axes>"
      ]
     },
     "metadata": {},
     "output_type": "display_data"
    }
   ],
   "source": [
    "import matplotlib.pyplot as plt\n",
    "import numpy as np\n",
    "\n",
    "# Max achievable points (TOTW)\n",
    "max_points = totw_points\n",
    "indices = np.arange(1, len(max_points) + 1)\n",
    "# Points achieved by the model\n",
    "model_points = pred_points  \n",
    "\n",
    "# Plotting canvas\n",
    "fig, ax1 = plt.subplots(figsize=(10, 6))\n",
    "bar_width = 0.4\n",
    "\n",
    "# Bars for max achievable points\n",
    "bar1 = ax1.bar(\n",
    "    indices, max_points, bar_width, label=\"Max Achievable Points (TOTW)\", color=\"lightgray\"\n",
    ")\n",
    "\n",
    "# Bars for model points achieved (overlapping)\n",
    "bar2 = ax1.bar(\n",
    "    indices,\n",
    "    model_points,\n",
    "    bar_width,\n",
    "    label=\"Points Achieved by Model\",\n",
    "    color=\"dodgerblue\",\n",
    ")\n",
    "\n",
    "# Secondary y-axis for RMSE\n",
    "ax2 = ax1.twinx()\n",
    "line = ax2.plot(indices, rmse, label=f\"RMSE = {round(mse, 2)}\", color=\"red\", marker=\"o\", linewidth=2)\n",
    "\n",
    "# Labels, title, and legend\n",
    "ax1.set_xlabel(\"Game Week\", fontsize=16,)\n",
    "ax1.set_ylabel(\"Points\", fontsize=16,)\n",
    "ax2.set_ylabel(\"RMSE\", fontsize=16,)\n",
    "ax1.set_title(\"Linear Programming Model Performance\", fontsize=16,)\n",
    "ax1.set_xticks(indices)\n",
    "ax1.legend(loc=\"lower left\", fontsize=12)\n",
    "ax2.legend(loc=\"lower right\", fontsize=12)\n",
    "\n",
    "plt.tight_layout()\n",
    "plt.show()"
   ]
  },
  {
   "cell_type": "markdown",
   "metadata": {},
   "source": [
    "# 5. Comparison statistics"
   ]
  },
  {
   "cell_type": "code",
   "execution_count": 109,
   "metadata": {},
   "outputs": [
    {
     "name": "stdout",
     "output_type": "stream",
     "text": [
      "infer_time: 0.9309796973278648, rmse: 43.510131911399306, mae: 41.55263157894737, mape: 0.2995013421096329\n",
      "values: 712.6578947368421, total_pts: 98.65789473684211, exp_pts: 86.43289473684209\n",
      "total_pts_std: 20.587779098276872, exp_pts_std: 17.46140961752587, std_intra: 4.969669821290607\n"
     ]
    }
   ],
   "source": [
    "# Basic statistics\n",
    "\n",
    "from numpy import mean, std\n",
    "\n",
    "values = []\n",
    "total_pts = []\n",
    "xp_pts = []\n",
    "st_dev_intra = []\n",
    "for i in range(38):\n",
    "    values.append(squads['players'][i]['value'].sum())\n",
    "    total_pts.append(squads['players'][i]['total_points'].sum())\n",
    "    xp_pts.append(squads['players'][i]['xP_inter'].sum())\n",
    "    st_dev_intra.append(std(squads['players'][i]['total_points']))\n",
    "\n",
    "\n",
    "print(f\"infer_time: {mean(infer_times)}, rmse: {mse}, mae: {mae}, mape: {mape}\")\n",
    "print(f\"values: {mean(values)}, total_pts: {mean(total_pts)}, exp_pts: {mean(xp_pts)}\")\n",
    "print(f\"total_pts_std: {std(total_pts)}, exp_pts_std: {std(xp_pts)}, std_intra: {mean(st_dev_intra)}\")"
   ]
  },
  {
   "cell_type": "code",
   "execution_count": null,
   "metadata": {},
   "outputs": [
    {
     "data": {
      "text/plain": [
       "0.41148325358851673"
      ]
     },
     "execution_count": 110,
     "metadata": {},
     "output_type": "execute_result"
    }
   ],
   "source": [
    "# Overlap of players from the best team (TOTW)\n",
    "\n",
    "df_totw = pd.read_pickle('data/df_totw.pkl')\n",
    "df_players = pd.DataFrame(squads['players'][0])\n",
    "\n",
    "for i in range(1,38):\n",
    "    df_players = pd.concat([df_players, pd.DataFrame(squads['players'][i])])\n",
    "\n",
    "overlap_pct = []\n",
    "for i in range(1, 39):\n",
    "    common_rows = df_totw[df_totw['GW'] == i].merge(df_players[df_players['GW'] == i], how='inner')\n",
    "    overlap_pct.append(len(common_rows)/11)\n",
    "\n",
    "\n",
    "mean(overlap_pct)\n",
    "\n",
    "# df_players.to_pickle('ml_results/lp_squads.pkl')"
   ]
  },
  {
   "cell_type": "markdown",
   "metadata": {},
   "source": [
    "# Benchmark best team"
   ]
  },
  {
   "cell_type": "code",
   "execution_count": 63,
   "metadata": {},
   "outputs": [],
   "source": [
    "df_totw = pd.DataFrame(squads['players'][0])"
   ]
  },
  {
   "cell_type": "code",
   "execution_count": 65,
   "metadata": {},
   "outputs": [],
   "source": [
    "for i in range(1,38):\n",
    "    df_totw = pd.concat([df_totw, pd.DataFrame(squads['players'][i])])"
   ]
  },
  {
   "cell_type": "code",
   "execution_count": null,
   "metadata": {},
   "outputs": [],
   "source": [
    "# df_totw.to_pickle(\"data/df_totw.pkl\")"
   ]
  },
  {
   "cell_type": "markdown",
   "metadata": {},
   "source": [
    "# Benchmark minimum team"
   ]
  },
  {
   "cell_type": "code",
   "execution_count": 77,
   "metadata": {},
   "outputs": [],
   "source": [
    "df_bench_lower = pd.DataFrame(squads['players'][0])"
   ]
  },
  {
   "cell_type": "code",
   "execution_count": 79,
   "metadata": {},
   "outputs": [],
   "source": [
    "for i in range(1,38):\n",
    "    df_bench_lower = pd.concat([df_bench_lower, pd.DataFrame(squads['players'][i])])"
   ]
  },
  {
   "cell_type": "code",
   "execution_count": null,
   "metadata": {},
   "outputs": [],
   "source": [
    "# df_bench_lower.to_pickle(\"data/df_bench_lower.pkl\")"
   ]
  }
 ],
 "metadata": {
  "kernelspec": {
   "display_name": "Python 3",
   "language": "python",
   "name": "python3"
  },
  "language_info": {
   "codemirror_mode": {
    "name": "ipython",
    "version": 3
   },
   "file_extension": ".py",
   "mimetype": "text/x-python",
   "name": "python",
   "nbconvert_exporter": "python",
   "pygments_lexer": "ipython3",
   "version": "3.11.5"
  }
 },
 "nbformat": 4,
 "nbformat_minor": 2
}
