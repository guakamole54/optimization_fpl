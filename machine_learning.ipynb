{
 "cells": [
  {
   "cell_type": "markdown",
   "metadata": {},
   "source": [
    "# 1. Load data\n",
    "\n",
    "I load the dataset and split it into dictionaries by position which is going to simplify some genetic operations."
   ]
  },
  {
   "cell_type": "code",
   "execution_count": null,
   "metadata": {},
   "outputs": [
    {
     "data": {
      "text/html": [
       "<div>\n",
       "<style scoped>\n",
       "    .dataframe tbody tr th:only-of-type {\n",
       "        vertical-align: middle;\n",
       "    }\n",
       "\n",
       "    .dataframe tbody tr th {\n",
       "        vertical-align: top;\n",
       "    }\n",
       "\n",
       "    .dataframe thead th {\n",
       "        text-align: right;\n",
       "    }\n",
       "</style>\n",
       "<table border=\"1\" class=\"dataframe\">\n",
       "  <thead>\n",
       "    <tr style=\"text-align: right;\">\n",
       "      <th></th>\n",
       "      <th>name</th>\n",
       "      <th>position</th>\n",
       "      <th>team</th>\n",
       "      <th>xP</th>\n",
       "      <th>assists</th>\n",
       "      <th>bonus</th>\n",
       "      <th>bps</th>\n",
       "      <th>clean_sheets</th>\n",
       "      <th>creativity</th>\n",
       "      <th>element</th>\n",
       "      <th>expected_assists</th>\n",
       "      <th>expected_goal_involvements</th>\n",
       "      <th>expected_goals</th>\n",
       "      <th>expected_goals_conceded</th>\n",
       "      <th>fixture</th>\n",
       "      <th>goals_conceded</th>\n",
       "      <th>goals_scored</th>\n",
       "      <th>ict_index</th>\n",
       "      <th>influence</th>\n",
       "      <th>kickoff_time</th>\n",
       "      <th>minutes</th>\n",
       "      <th>opponent_team</th>\n",
       "      <th>own_goals</th>\n",
       "      <th>penalties_missed</th>\n",
       "      <th>penalties_saved</th>\n",
       "      <th>red_cards</th>\n",
       "      <th>round</th>\n",
       "      <th>saves</th>\n",
       "      <th>selected</th>\n",
       "      <th>starts</th>\n",
       "      <th>team_a_score</th>\n",
       "      <th>team_h_score</th>\n",
       "      <th>threat</th>\n",
       "      <th>total_points</th>\n",
       "      <th>transfers_balance</th>\n",
       "      <th>transfers_in</th>\n",
       "      <th>transfers_out</th>\n",
       "      <th>value</th>\n",
       "      <th>was_home</th>\n",
       "      <th>yellow_cards</th>\n",
       "      <th>GW</th>\n",
       "      <th>aggregation</th>\n",
       "      <th>xP_inter</th>\n",
       "      <th>rolling_xP</th>\n",
       "      <th>rolling_total_points</th>\n",
       "      <th>rolling_xP_5gw</th>\n",
       "      <th>rolling_total_points_5gw</th>\n",
       "      <th>rolling_xP_3gw</th>\n",
       "      <th>rolling_total_points_3gw</th>\n",
       "      <th>std_prev_gws</th>\n",
       "      <th>xP_cv</th>\n",
       "      <th>season_goals</th>\n",
       "      <th>season_assists</th>\n",
       "      <th>season_minutes</th>\n",
       "      <th>total_points_l1</th>\n",
       "      <th>ppm</th>\n",
       "      <th>id</th>\n",
       "      <th>team_a_difficulty</th>\n",
       "      <th>team_h_difficulty</th>\n",
       "      <th>fix_difficulty</th>\n",
       "      <th>influence_l1</th>\n",
       "      <th>was_double_gw</th>\n",
       "    </tr>\n",
       "  </thead>\n",
       "  <tbody>\n",
       "    <tr>\n",
       "      <th>0</th>\n",
       "      <td>Aaron Connolly</td>\n",
       "      <td>FWD</td>\n",
       "      <td>Brighton</td>\n",
       "      <td>0.0</td>\n",
       "      <td>0</td>\n",
       "      <td>0</td>\n",
       "      <td>0</td>\n",
       "      <td>0</td>\n",
       "      <td>0.0</td>\n",
       "      <td>127</td>\n",
       "      <td>0.0</td>\n",
       "      <td>0.0</td>\n",
       "      <td>0.0</td>\n",
       "      <td>0.0</td>\n",
       "      <td>4</td>\n",
       "      <td>0</td>\n",
       "      <td>0</td>\n",
       "      <td>0.0</td>\n",
       "      <td>0.0</td>\n",
       "      <td>2023-08-12T14:00:00Z</td>\n",
       "      <td>0</td>\n",
       "      <td>12</td>\n",
       "      <td>0</td>\n",
       "      <td>0</td>\n",
       "      <td>0</td>\n",
       "      <td>0</td>\n",
       "      <td>1</td>\n",
       "      <td>0</td>\n",
       "      <td>5621</td>\n",
       "      <td>0</td>\n",
       "      <td>1</td>\n",
       "      <td>4</td>\n",
       "      <td>0.0</td>\n",
       "      <td>0</td>\n",
       "      <td>0</td>\n",
       "      <td>0</td>\n",
       "      <td>0</td>\n",
       "      <td>45</td>\n",
       "      <td>True</td>\n",
       "      <td>0</td>\n",
       "      <td>1</td>\n",
       "      <td>NA</td>\n",
       "      <td>0.0</td>\n",
       "      <td>0.0</td>\n",
       "      <td>0.0</td>\n",
       "      <td>0.0</td>\n",
       "      <td>0.0</td>\n",
       "      <td>0.0</td>\n",
       "      <td>0.0</td>\n",
       "      <td>NaN</td>\n",
       "      <td>NaN</td>\n",
       "      <td>0</td>\n",
       "      <td>0</td>\n",
       "      <td>0</td>\n",
       "      <td>0.0</td>\n",
       "      <td>0.0</td>\n",
       "      <td>4.0</td>\n",
       "      <td>3.0</td>\n",
       "      <td>2.0</td>\n",
       "      <td>3.0</td>\n",
       "      <td>0.0</td>\n",
       "      <td>0</td>\n",
       "    </tr>\n",
       "    <tr>\n",
       "      <th>1</th>\n",
       "      <td>Aaron Connolly</td>\n",
       "      <td>FWD</td>\n",
       "      <td>Brighton</td>\n",
       "      <td>0.0</td>\n",
       "      <td>0</td>\n",
       "      <td>0</td>\n",
       "      <td>0</td>\n",
       "      <td>0</td>\n",
       "      <td>0.0</td>\n",
       "      <td>127</td>\n",
       "      <td>0.0</td>\n",
       "      <td>0.0</td>\n",
       "      <td>0.0</td>\n",
       "      <td>0.0</td>\n",
       "      <td>20</td>\n",
       "      <td>0</td>\n",
       "      <td>0</td>\n",
       "      <td>0.0</td>\n",
       "      <td>0.0</td>\n",
       "      <td>2023-08-19T14:00:00Z</td>\n",
       "      <td>0</td>\n",
       "      <td>20</td>\n",
       "      <td>0</td>\n",
       "      <td>0</td>\n",
       "      <td>0</td>\n",
       "      <td>0</td>\n",
       "      <td>2</td>\n",
       "      <td>0</td>\n",
       "      <td>4093</td>\n",
       "      <td>0</td>\n",
       "      <td>4</td>\n",
       "      <td>1</td>\n",
       "      <td>0.0</td>\n",
       "      <td>0</td>\n",
       "      <td>-1441</td>\n",
       "      <td>0</td>\n",
       "      <td>1441</td>\n",
       "      <td>45</td>\n",
       "      <td>False</td>\n",
       "      <td>0</td>\n",
       "      <td>2</td>\n",
       "      <td>NA</td>\n",
       "      <td>0.0</td>\n",
       "      <td>0.0</td>\n",
       "      <td>0.0</td>\n",
       "      <td>0.0</td>\n",
       "      <td>0.0</td>\n",
       "      <td>0.0</td>\n",
       "      <td>0.0</td>\n",
       "      <td>NaN</td>\n",
       "      <td>NaN</td>\n",
       "      <td>0</td>\n",
       "      <td>0</td>\n",
       "      <td>0</td>\n",
       "      <td>0.0</td>\n",
       "      <td>0.0</td>\n",
       "      <td>20.0</td>\n",
       "      <td>2.0</td>\n",
       "      <td>2.0</td>\n",
       "      <td>2.0</td>\n",
       "      <td>0.0</td>\n",
       "      <td>0</td>\n",
       "    </tr>\n",
       "    <tr>\n",
       "      <th>2</th>\n",
       "      <td>Aaron Connolly</td>\n",
       "      <td>FWD</td>\n",
       "      <td>Brighton</td>\n",
       "      <td>0.0</td>\n",
       "      <td>0</td>\n",
       "      <td>0</td>\n",
       "      <td>0</td>\n",
       "      <td>0</td>\n",
       "      <td>0.0</td>\n",
       "      <td>127</td>\n",
       "      <td>0.0</td>\n",
       "      <td>0.0</td>\n",
       "      <td>0.0</td>\n",
       "      <td>0.0</td>\n",
       "      <td>24</td>\n",
       "      <td>0</td>\n",
       "      <td>0</td>\n",
       "      <td>0.0</td>\n",
       "      <td>0.0</td>\n",
       "      <td>2023-08-26T16:30:00Z</td>\n",
       "      <td>0</td>\n",
       "      <td>19</td>\n",
       "      <td>0</td>\n",
       "      <td>0</td>\n",
       "      <td>0</td>\n",
       "      <td>0</td>\n",
       "      <td>3</td>\n",
       "      <td>0</td>\n",
       "      <td>3438</td>\n",
       "      <td>0</td>\n",
       "      <td>3</td>\n",
       "      <td>1</td>\n",
       "      <td>0.0</td>\n",
       "      <td>0</td>\n",
       "      <td>-719</td>\n",
       "      <td>0</td>\n",
       "      <td>719</td>\n",
       "      <td>45</td>\n",
       "      <td>True</td>\n",
       "      <td>0</td>\n",
       "      <td>3</td>\n",
       "      <td>NA</td>\n",
       "      <td>0.0</td>\n",
       "      <td>0.0</td>\n",
       "      <td>0.0</td>\n",
       "      <td>0.0</td>\n",
       "      <td>0.0</td>\n",
       "      <td>0.0</td>\n",
       "      <td>0.0</td>\n",
       "      <td>0.0</td>\n",
       "      <td>NaN</td>\n",
       "      <td>0</td>\n",
       "      <td>0</td>\n",
       "      <td>0</td>\n",
       "      <td>0.0</td>\n",
       "      <td>0.0</td>\n",
       "      <td>24.0</td>\n",
       "      <td>3.0</td>\n",
       "      <td>2.0</td>\n",
       "      <td>3.0</td>\n",
       "      <td>0.0</td>\n",
       "      <td>0</td>\n",
       "    </tr>\n",
       "    <tr>\n",
       "      <th>3</th>\n",
       "      <td>Aaron Connolly</td>\n",
       "      <td>FWD</td>\n",
       "      <td>Brighton</td>\n",
       "      <td>0.0</td>\n",
       "      <td>0</td>\n",
       "      <td>0</td>\n",
       "      <td>0</td>\n",
       "      <td>0</td>\n",
       "      <td>0.0</td>\n",
       "      <td>127</td>\n",
       "      <td>0.0</td>\n",
       "      <td>0.0</td>\n",
       "      <td>0.0</td>\n",
       "      <td>0.0</td>\n",
       "      <td>33</td>\n",
       "      <td>0</td>\n",
       "      <td>0</td>\n",
       "      <td>0.0</td>\n",
       "      <td>0.0</td>\n",
       "      <td>2023-09-02T16:30:00Z</td>\n",
       "      <td>0</td>\n",
       "      <td>15</td>\n",
       "      <td>0</td>\n",
       "      <td>0</td>\n",
       "      <td>0</td>\n",
       "      <td>0</td>\n",
       "      <td>4</td>\n",
       "      <td>0</td>\n",
       "      <td>3048</td>\n",
       "      <td>0</td>\n",
       "      <td>1</td>\n",
       "      <td>3</td>\n",
       "      <td>0.0</td>\n",
       "      <td>0</td>\n",
       "      <td>-415</td>\n",
       "      <td>0</td>\n",
       "      <td>415</td>\n",
       "      <td>45</td>\n",
       "      <td>True</td>\n",
       "      <td>0</td>\n",
       "      <td>4</td>\n",
       "      <td>NA</td>\n",
       "      <td>0.0</td>\n",
       "      <td>0.0</td>\n",
       "      <td>0.0</td>\n",
       "      <td>0.0</td>\n",
       "      <td>0.0</td>\n",
       "      <td>0.0</td>\n",
       "      <td>0.0</td>\n",
       "      <td>0.0</td>\n",
       "      <td>NaN</td>\n",
       "      <td>0</td>\n",
       "      <td>0</td>\n",
       "      <td>0</td>\n",
       "      <td>0.0</td>\n",
       "      <td>0.0</td>\n",
       "      <td>33.0</td>\n",
       "      <td>3.0</td>\n",
       "      <td>3.0</td>\n",
       "      <td>3.0</td>\n",
       "      <td>0.0</td>\n",
       "      <td>0</td>\n",
       "    </tr>\n",
       "    <tr>\n",
       "      <th>4</th>\n",
       "      <td>Aaron Connolly</td>\n",
       "      <td>FWD</td>\n",
       "      <td>Brighton</td>\n",
       "      <td>0.0</td>\n",
       "      <td>0</td>\n",
       "      <td>0</td>\n",
       "      <td>0</td>\n",
       "      <td>0</td>\n",
       "      <td>0.0</td>\n",
       "      <td>127</td>\n",
       "      <td>0.0</td>\n",
       "      <td>0.0</td>\n",
       "      <td>0.0</td>\n",
       "      <td>0.0</td>\n",
       "      <td>45</td>\n",
       "      <td>0</td>\n",
       "      <td>0</td>\n",
       "      <td>0.0</td>\n",
       "      <td>0.0</td>\n",
       "      <td>2023-09-16T14:00:00Z</td>\n",
       "      <td>0</td>\n",
       "      <td>14</td>\n",
       "      <td>0</td>\n",
       "      <td>0</td>\n",
       "      <td>0</td>\n",
       "      <td>0</td>\n",
       "      <td>5</td>\n",
       "      <td>0</td>\n",
       "      <td>2702</td>\n",
       "      <td>0</td>\n",
       "      <td>3</td>\n",
       "      <td>1</td>\n",
       "      <td>0.0</td>\n",
       "      <td>0</td>\n",
       "      <td>-359</td>\n",
       "      <td>0</td>\n",
       "      <td>359</td>\n",
       "      <td>45</td>\n",
       "      <td>False</td>\n",
       "      <td>0</td>\n",
       "      <td>5</td>\n",
       "      <td>NA</td>\n",
       "      <td>0.0</td>\n",
       "      <td>0.0</td>\n",
       "      <td>0.0</td>\n",
       "      <td>0.0</td>\n",
       "      <td>0.0</td>\n",
       "      <td>0.0</td>\n",
       "      <td>0.0</td>\n",
       "      <td>0.0</td>\n",
       "      <td>NaN</td>\n",
       "      <td>0</td>\n",
       "      <td>0</td>\n",
       "      <td>0</td>\n",
       "      <td>0.0</td>\n",
       "      <td>0.0</td>\n",
       "      <td>45.0</td>\n",
       "      <td>4.0</td>\n",
       "      <td>2.0</td>\n",
       "      <td>2.0</td>\n",
       "      <td>0.0</td>\n",
       "      <td>0</td>\n",
       "    </tr>\n",
       "  </tbody>\n",
       "</table>\n",
       "</div>"
      ],
      "text/plain": [
       "             name position      team   xP  assists  bonus  bps  clean_sheets  \\\n",
       "0  Aaron Connolly      FWD  Brighton  0.0        0      0    0             0   \n",
       "1  Aaron Connolly      FWD  Brighton  0.0        0      0    0             0   \n",
       "2  Aaron Connolly      FWD  Brighton  0.0        0      0    0             0   \n",
       "3  Aaron Connolly      FWD  Brighton  0.0        0      0    0             0   \n",
       "4  Aaron Connolly      FWD  Brighton  0.0        0      0    0             0   \n",
       "\n",
       "   creativity  element  expected_assists  expected_goal_involvements  \\\n",
       "0         0.0      127               0.0                         0.0   \n",
       "1         0.0      127               0.0                         0.0   \n",
       "2         0.0      127               0.0                         0.0   \n",
       "3         0.0      127               0.0                         0.0   \n",
       "4         0.0      127               0.0                         0.0   \n",
       "\n",
       "   expected_goals  expected_goals_conceded fixture  goals_conceded  \\\n",
       "0             0.0                      0.0       4               0   \n",
       "1             0.0                      0.0      20               0   \n",
       "2             0.0                      0.0      24               0   \n",
       "3             0.0                      0.0      33               0   \n",
       "4             0.0                      0.0      45               0   \n",
       "\n",
       "   goals_scored  ict_index  influence          kickoff_time  minutes  \\\n",
       "0             0        0.0        0.0  2023-08-12T14:00:00Z        0   \n",
       "1             0        0.0        0.0  2023-08-19T14:00:00Z        0   \n",
       "2             0        0.0        0.0  2023-08-26T16:30:00Z        0   \n",
       "3             0        0.0        0.0  2023-09-02T16:30:00Z        0   \n",
       "4             0        0.0        0.0  2023-09-16T14:00:00Z        0   \n",
       "\n",
       "  opponent_team  own_goals  penalties_missed  penalties_saved  red_cards  \\\n",
       "0            12          0                 0                0          0   \n",
       "1            20          0                 0                0          0   \n",
       "2            19          0                 0                0          0   \n",
       "3            15          0                 0                0          0   \n",
       "4            14          0                 0                0          0   \n",
       "\n",
       "   round  saves  selected starts team_a_score team_h_score  threat  \\\n",
       "0      1      0      5621      0            1            4     0.0   \n",
       "1      2      0      4093      0            4            1     0.0   \n",
       "2      3      0      3438      0            3            1     0.0   \n",
       "3      4      0      3048      0            1            3     0.0   \n",
       "4      5      0      2702      0            3            1     0.0   \n",
       "\n",
       "   total_points  transfers_balance  transfers_in  transfers_out  value  \\\n",
       "0             0                  0             0              0     45   \n",
       "1             0              -1441             0           1441     45   \n",
       "2             0               -719             0            719     45   \n",
       "3             0               -415             0            415     45   \n",
       "4             0               -359             0            359     45   \n",
       "\n",
       "  was_home  yellow_cards  GW aggregation  xP_inter  rolling_xP  \\\n",
       "0     True             0   1          NA       0.0         0.0   \n",
       "1    False             0   2          NA       0.0         0.0   \n",
       "2     True             0   3          NA       0.0         0.0   \n",
       "3     True             0   4          NA       0.0         0.0   \n",
       "4    False             0   5          NA       0.0         0.0   \n",
       "\n",
       "   rolling_total_points  rolling_xP_5gw  rolling_total_points_5gw  \\\n",
       "0                   0.0             0.0                       0.0   \n",
       "1                   0.0             0.0                       0.0   \n",
       "2                   0.0             0.0                       0.0   \n",
       "3                   0.0             0.0                       0.0   \n",
       "4                   0.0             0.0                       0.0   \n",
       "\n",
       "   rolling_xP_3gw  rolling_total_points_3gw  std_prev_gws  xP_cv  \\\n",
       "0             0.0                       0.0           NaN    NaN   \n",
       "1             0.0                       0.0           NaN    NaN   \n",
       "2             0.0                       0.0           0.0    NaN   \n",
       "3             0.0                       0.0           0.0    NaN   \n",
       "4             0.0                       0.0           0.0    NaN   \n",
       "\n",
       "   season_goals  season_assists  season_minutes  total_points_l1  ppm    id  \\\n",
       "0             0               0               0              0.0  0.0   4.0   \n",
       "1             0               0               0              0.0  0.0  20.0   \n",
       "2             0               0               0              0.0  0.0  24.0   \n",
       "3             0               0               0              0.0  0.0  33.0   \n",
       "4             0               0               0              0.0  0.0  45.0   \n",
       "\n",
       "   team_a_difficulty  team_h_difficulty  fix_difficulty  influence_l1  \\\n",
       "0                3.0                2.0             3.0           0.0   \n",
       "1                2.0                2.0             2.0           0.0   \n",
       "2                3.0                2.0             3.0           0.0   \n",
       "3                3.0                3.0             3.0           0.0   \n",
       "4                4.0                2.0             2.0           0.0   \n",
       "\n",
       "   was_double_gw  \n",
       "0              0  \n",
       "1              0  \n",
       "2              0  \n",
       "3              0  \n",
       "4              0  "
      ]
     },
     "execution_count": 1,
     "metadata": {},
     "output_type": "execute_result"
    }
   ],
   "source": [
    "import pandas as pd\n",
    "\n",
    "df = pd.read_pickle(\"data/final_data.pkl\")\n",
    "\n",
    "pd.set_option(\"display.max_columns\", None)\n",
    "pd.options.mode.chained_assignment = None\n",
    "\n",
    "df.head()\n",
    "# df.shape\n",
    "# df[df['name'] == 'Erling Haaland']"
   ]
  },
  {
   "cell_type": "markdown",
   "metadata": {},
   "source": [
    "# 2. Encoding and feature selection"
   ]
  },
  {
   "cell_type": "code",
   "execution_count": 2,
   "metadata": {},
   "outputs": [],
   "source": [
    "df['goal_involvements'] = df['goals_scored'] + df['assists']\n",
    "encoded = pd.get_dummies(df[['position']], prefix=['pos'], drop_first=True)\n",
    "df = pd.concat([df, encoded], axis=1)\n",
    "# df = df[df['aggregation'] != 'aggregate']\n",
    "# df.dropna(inplace=True)\n",
    "encoded_ass = pd.get_dummies(df[['aggregation']], prefix=['ass'], drop_first=True)\n",
    "df = pd.concat([df, encoded_ass], axis=1)"
   ]
  },
  {
   "cell_type": "code",
   "execution_count": 3,
   "metadata": {},
   "outputs": [],
   "source": [
    "# Define features and target\n",
    "features = [\n",
    "    \"xP_inter\",\n",
    "    \"goals_scored\",\n",
    "    \"assists\",\n",
    "    \"goals_conceded\",\n",
    "    'rolling_total_points_3gw',\n",
    "    'goal_involvements',\n",
    "    'fix_difficulty',\n",
    "]\n",
    "\n",
    "features_pred = [\n",
    "    \"xP_inter\",\n",
    "    \"expected_goals\",\n",
    "    \"expected_assists\",\n",
    "    \"expected_goals_conceded\",\n",
    "    'rolling_total_points_3gw',\n",
    "    'expected_goal_involvements',\n",
    "    'fix_difficulty',\n",
    "\n",
    "]\n",
    "\n",
    "df[\"target_xP\"] = df.groupby(\"name\")[\"total_points\"].shift(\n",
    "    0\n",
    ")  # Predict next GW's total_points\n",
    "\n",
    "df.fillna(0, inplace=True)"
   ]
  },
  {
   "cell_type": "markdown",
   "metadata": {},
   "source": [
    "# 3. Training the models and making predictions"
   ]
  },
  {
   "cell_type": "markdown",
   "metadata": {},
   "source": [
    "* Ridge Regression\n",
    "* XGBM\n",
    "* DNN\n",
    "* Random Forest"
   ]
  },
  {
   "cell_type": "code",
   "execution_count": 4,
   "metadata": {},
   "outputs": [
    {
     "name": "stderr",
     "output_type": "stream",
     "text": [
      "  0%|          | 0/37 [00:00<?, ?it/s]c:\\Users\\robert.mudron\\AppData\\Local\\Programs\\Python\\Python311\\Lib\\site-packages\\keras\\src\\layers\\core\\dense.py:87: UserWarning: Do not pass an `input_shape`/`input_dim` argument to a layer. When using Sequential models, prefer using an `Input(shape)` object as the first layer in the model instead.\n",
      "  super().__init__(activity_regularizer=activity_regularizer, **kwargs)\n"
     ]
    },
    {
     "name": "stdout",
     "output_type": "stream",
     "text": [
      "\u001b[1m19/19\u001b[0m \u001b[32m━━━━━━━━━━━━━━━━━━━━\u001b[0m\u001b[37m\u001b[0m \u001b[1m0s\u001b[0m 4ms/step\n"
     ]
    },
    {
     "name": "stderr",
     "output_type": "stream",
     "text": [
      "  3%|▎         | 1/37 [00:03<02:07,  3.54s/it]c:\\Users\\robert.mudron\\AppData\\Local\\Programs\\Python\\Python311\\Lib\\site-packages\\keras\\src\\layers\\core\\dense.py:87: UserWarning: Do not pass an `input_shape`/`input_dim` argument to a layer. When using Sequential models, prefer using an `Input(shape)` object as the first layer in the model instead.\n",
      "  super().__init__(activity_regularizer=activity_regularizer, **kwargs)\n"
     ]
    },
    {
     "name": "stdout",
     "output_type": "stream",
     "text": [
      "\u001b[1m22/22\u001b[0m \u001b[32m━━━━━━━━━━━━━━━━━━━━\u001b[0m\u001b[37m\u001b[0m \u001b[1m0s\u001b[0m 4ms/step\n"
     ]
    },
    {
     "name": "stderr",
     "output_type": "stream",
     "text": [
      "  5%|▌         | 2/37 [00:10<03:17,  5.65s/it]c:\\Users\\robert.mudron\\AppData\\Local\\Programs\\Python\\Python311\\Lib\\site-packages\\keras\\src\\layers\\core\\dense.py:87: UserWarning: Do not pass an `input_shape`/`input_dim` argument to a layer. When using Sequential models, prefer using an `Input(shape)` object as the first layer in the model instead.\n",
      "  super().__init__(activity_regularizer=activity_regularizer, **kwargs)\n"
     ]
    },
    {
     "name": "stdout",
     "output_type": "stream",
     "text": [
      "\u001b[1m22/22\u001b[0m \u001b[32m━━━━━━━━━━━━━━━━━━━━\u001b[0m\u001b[37m\u001b[0m \u001b[1m0s\u001b[0m 4ms/step\n"
     ]
    },
    {
     "name": "stderr",
     "output_type": "stream",
     "text": [
      "  8%|▊         | 3/37 [00:18<03:43,  6.57s/it]c:\\Users\\robert.mudron\\AppData\\Local\\Programs\\Python\\Python311\\Lib\\site-packages\\keras\\src\\layers\\core\\dense.py:87: UserWarning: Do not pass an `input_shape`/`input_dim` argument to a layer. When using Sequential models, prefer using an `Input(shape)` object as the first layer in the model instead.\n",
      "  super().__init__(activity_regularizer=activity_regularizer, **kwargs)\n"
     ]
    },
    {
     "name": "stdout",
     "output_type": "stream",
     "text": [
      "\u001b[1m23/23\u001b[0m \u001b[32m━━━━━━━━━━━━━━━━━━━━\u001b[0m\u001b[37m\u001b[0m \u001b[1m0s\u001b[0m 3ms/step\n"
     ]
    },
    {
     "name": "stderr",
     "output_type": "stream",
     "text": [
      " 11%|█         | 4/37 [00:28<04:21,  7.93s/it]c:\\Users\\robert.mudron\\AppData\\Local\\Programs\\Python\\Python311\\Lib\\site-packages\\keras\\src\\layers\\core\\dense.py:87: UserWarning: Do not pass an `input_shape`/`input_dim` argument to a layer. When using Sequential models, prefer using an `Input(shape)` object as the first layer in the model instead.\n",
      "  super().__init__(activity_regularizer=activity_regularizer, **kwargs)\n"
     ]
    },
    {
     "name": "stdout",
     "output_type": "stream",
     "text": [
      "\u001b[1m23/23\u001b[0m \u001b[32m━━━━━━━━━━━━━━━━━━━━\u001b[0m\u001b[37m\u001b[0m \u001b[1m0s\u001b[0m 3ms/step\n"
     ]
    },
    {
     "name": "stderr",
     "output_type": "stream",
     "text": [
      " 14%|█▎        | 5/37 [00:36<04:13,  7.91s/it]c:\\Users\\robert.mudron\\AppData\\Local\\Programs\\Python\\Python311\\Lib\\site-packages\\keras\\src\\layers\\core\\dense.py:87: UserWarning: Do not pass an `input_shape`/`input_dim` argument to a layer. When using Sequential models, prefer using an `Input(shape)` object as the first layer in the model instead.\n",
      "  super().__init__(activity_regularizer=activity_regularizer, **kwargs)\n"
     ]
    },
    {
     "name": "stdout",
     "output_type": "stream",
     "text": [
      "\u001b[1m23/23\u001b[0m \u001b[32m━━━━━━━━━━━━━━━━━━━━\u001b[0m\u001b[37m\u001b[0m \u001b[1m0s\u001b[0m 4ms/step\n"
     ]
    },
    {
     "name": "stderr",
     "output_type": "stream",
     "text": [
      " 16%|█▌        | 6/37 [00:45<04:18,  8.33s/it]c:\\Users\\robert.mudron\\AppData\\Local\\Programs\\Python\\Python311\\Lib\\site-packages\\keras\\src\\layers\\core\\dense.py:87: UserWarning: Do not pass an `input_shape`/`input_dim` argument to a layer. When using Sequential models, prefer using an `Input(shape)` object as the first layer in the model instead.\n",
      "  super().__init__(activity_regularizer=activity_regularizer, **kwargs)\n"
     ]
    },
    {
     "name": "stdout",
     "output_type": "stream",
     "text": [
      "\u001b[1m23/23\u001b[0m \u001b[32m━━━━━━━━━━━━━━━━━━━━\u001b[0m\u001b[37m\u001b[0m \u001b[1m0s\u001b[0m 3ms/step\n"
     ]
    },
    {
     "name": "stderr",
     "output_type": "stream",
     "text": [
      " 19%|█▉        | 7/37 [00:59<05:07, 10.25s/it]c:\\Users\\robert.mudron\\AppData\\Local\\Programs\\Python\\Python311\\Lib\\site-packages\\keras\\src\\layers\\core\\dense.py:87: UserWarning: Do not pass an `input_shape`/`input_dim` argument to a layer. When using Sequential models, prefer using an `Input(shape)` object as the first layer in the model instead.\n",
      "  super().__init__(activity_regularizer=activity_regularizer, **kwargs)\n"
     ]
    },
    {
     "name": "stdout",
     "output_type": "stream",
     "text": [
      "\u001b[1m23/23\u001b[0m \u001b[32m━━━━━━━━━━━━━━━━━━━━\u001b[0m\u001b[37m\u001b[0m \u001b[1m0s\u001b[0m 4ms/step\n"
     ]
    },
    {
     "name": "stderr",
     "output_type": "stream",
     "text": [
      " 22%|██▏       | 8/37 [01:14<05:44, 11.88s/it]c:\\Users\\robert.mudron\\AppData\\Local\\Programs\\Python\\Python311\\Lib\\site-packages\\keras\\src\\layers\\core\\dense.py:87: UserWarning: Do not pass an `input_shape`/`input_dim` argument to a layer. When using Sequential models, prefer using an `Input(shape)` object as the first layer in the model instead.\n",
      "  super().__init__(activity_regularizer=activity_regularizer, **kwargs)\n"
     ]
    },
    {
     "name": "stdout",
     "output_type": "stream",
     "text": [
      "\u001b[1m23/23\u001b[0m \u001b[32m━━━━━━━━━━━━━━━━━━━━\u001b[0m\u001b[37m\u001b[0m \u001b[1m0s\u001b[0m 3ms/step\n"
     ]
    },
    {
     "name": "stderr",
     "output_type": "stream",
     "text": [
      " 24%|██▍       | 9/37 [01:27<05:40, 12.18s/it]c:\\Users\\robert.mudron\\AppData\\Local\\Programs\\Python\\Python311\\Lib\\site-packages\\keras\\src\\layers\\core\\dense.py:87: UserWarning: Do not pass an `input_shape`/`input_dim` argument to a layer. When using Sequential models, prefer using an `Input(shape)` object as the first layer in the model instead.\n",
      "  super().__init__(activity_regularizer=activity_regularizer, **kwargs)\n"
     ]
    },
    {
     "name": "stdout",
     "output_type": "stream",
     "text": [
      "\u001b[1m23/23\u001b[0m \u001b[32m━━━━━━━━━━━━━━━━━━━━\u001b[0m\u001b[37m\u001b[0m \u001b[1m0s\u001b[0m 4ms/step\n"
     ]
    },
    {
     "name": "stderr",
     "output_type": "stream",
     "text": [
      " 27%|██▋       | 10/37 [01:38<05:13, 11.61s/it]c:\\Users\\robert.mudron\\AppData\\Local\\Programs\\Python\\Python311\\Lib\\site-packages\\keras\\src\\layers\\core\\dense.py:87: UserWarning: Do not pass an `input_shape`/`input_dim` argument to a layer. When using Sequential models, prefer using an `Input(shape)` object as the first layer in the model instead.\n",
      "  super().__init__(activity_regularizer=activity_regularizer, **kwargs)\n"
     ]
    },
    {
     "name": "stdout",
     "output_type": "stream",
     "text": [
      "\u001b[1m24/24\u001b[0m \u001b[32m━━━━━━━━━━━━━━━━━━━━\u001b[0m\u001b[37m\u001b[0m \u001b[1m0s\u001b[0m 3ms/step\n"
     ]
    },
    {
     "name": "stderr",
     "output_type": "stream",
     "text": [
      " 30%|██▉       | 11/37 [01:54<05:36, 12.96s/it]c:\\Users\\robert.mudron\\AppData\\Local\\Programs\\Python\\Python311\\Lib\\site-packages\\keras\\src\\layers\\core\\dense.py:87: UserWarning: Do not pass an `input_shape`/`input_dim` argument to a layer. When using Sequential models, prefer using an `Input(shape)` object as the first layer in the model instead.\n",
      "  super().__init__(activity_regularizer=activity_regularizer, **kwargs)\n"
     ]
    },
    {
     "name": "stdout",
     "output_type": "stream",
     "text": [
      "\u001b[1m24/24\u001b[0m \u001b[32m━━━━━━━━━━━━━━━━━━━━\u001b[0m\u001b[37m\u001b[0m \u001b[1m0s\u001b[0m 3ms/step\n"
     ]
    },
    {
     "name": "stderr",
     "output_type": "stream",
     "text": [
      " 32%|███▏      | 12/37 [02:11<05:55, 14.21s/it]c:\\Users\\robert.mudron\\AppData\\Local\\Programs\\Python\\Python311\\Lib\\site-packages\\keras\\src\\layers\\core\\dense.py:87: UserWarning: Do not pass an `input_shape`/`input_dim` argument to a layer. When using Sequential models, prefer using an `Input(shape)` object as the first layer in the model instead.\n",
      "  super().__init__(activity_regularizer=activity_regularizer, **kwargs)\n"
     ]
    },
    {
     "name": "stdout",
     "output_type": "stream",
     "text": [
      "\u001b[1m24/24\u001b[0m \u001b[32m━━━━━━━━━━━━━━━━━━━━\u001b[0m\u001b[37m\u001b[0m \u001b[1m0s\u001b[0m 4ms/step\n"
     ]
    },
    {
     "name": "stderr",
     "output_type": "stream",
     "text": [
      " 35%|███▌      | 13/37 [02:31<06:23, 15.97s/it]c:\\Users\\robert.mudron\\AppData\\Local\\Programs\\Python\\Python311\\Lib\\site-packages\\keras\\src\\layers\\core\\dense.py:87: UserWarning: Do not pass an `input_shape`/`input_dim` argument to a layer. When using Sequential models, prefer using an `Input(shape)` object as the first layer in the model instead.\n",
      "  super().__init__(activity_regularizer=activity_regularizer, **kwargs)\n"
     ]
    },
    {
     "name": "stdout",
     "output_type": "stream",
     "text": [
      "\u001b[1m24/24\u001b[0m \u001b[32m━━━━━━━━━━━━━━━━━━━━\u001b[0m\u001b[37m\u001b[0m \u001b[1m0s\u001b[0m 3ms/step\n"
     ]
    },
    {
     "name": "stderr",
     "output_type": "stream",
     "text": [
      " 38%|███▊      | 14/37 [02:50<06:33, 17.10s/it]c:\\Users\\robert.mudron\\AppData\\Local\\Programs\\Python\\Python311\\Lib\\site-packages\\keras\\src\\layers\\core\\dense.py:87: UserWarning: Do not pass an `input_shape`/`input_dim` argument to a layer. When using Sequential models, prefer using an `Input(shape)` object as the first layer in the model instead.\n",
      "  super().__init__(activity_regularizer=activity_regularizer, **kwargs)\n"
     ]
    },
    {
     "name": "stdout",
     "output_type": "stream",
     "text": [
      "\u001b[1m24/24\u001b[0m \u001b[32m━━━━━━━━━━━━━━━━━━━━\u001b[0m\u001b[37m\u001b[0m \u001b[1m0s\u001b[0m 3ms/step\n"
     ]
    },
    {
     "name": "stderr",
     "output_type": "stream",
     "text": [
      " 41%|████      | 15/37 [03:05<05:58, 16.29s/it]c:\\Users\\robert.mudron\\AppData\\Local\\Programs\\Python\\Python311\\Lib\\site-packages\\keras\\src\\layers\\core\\dense.py:87: UserWarning: Do not pass an `input_shape`/`input_dim` argument to a layer. When using Sequential models, prefer using an `Input(shape)` object as the first layer in the model instead.\n",
      "  super().__init__(activity_regularizer=activity_regularizer, **kwargs)\n"
     ]
    },
    {
     "name": "stdout",
     "output_type": "stream",
     "text": [
      "\u001b[1m22/22\u001b[0m \u001b[32m━━━━━━━━━━━━━━━━━━━━\u001b[0m\u001b[37m\u001b[0m \u001b[1m0s\u001b[0m 3ms/step\n"
     ]
    },
    {
     "name": "stderr",
     "output_type": "stream",
     "text": [
      " 43%|████▎     | 16/37 [03:21<05:39, 16.18s/it]c:\\Users\\robert.mudron\\AppData\\Local\\Programs\\Python\\Python311\\Lib\\site-packages\\keras\\src\\layers\\core\\dense.py:87: UserWarning: Do not pass an `input_shape`/`input_dim` argument to a layer. When using Sequential models, prefer using an `Input(shape)` object as the first layer in the model instead.\n",
      "  super().__init__(activity_regularizer=activity_regularizer, **kwargs)\n"
     ]
    },
    {
     "name": "stdout",
     "output_type": "stream",
     "text": [
      "\u001b[1m22/22\u001b[0m \u001b[32m━━━━━━━━━━━━━━━━━━━━\u001b[0m\u001b[37m\u001b[0m \u001b[1m0s\u001b[0m 4ms/step\n"
     ]
    },
    {
     "name": "stderr",
     "output_type": "stream",
     "text": [
      " 46%|████▌     | 17/37 [03:47<06:21, 19.07s/it]c:\\Users\\robert.mudron\\AppData\\Local\\Programs\\Python\\Python311\\Lib\\site-packages\\keras\\src\\layers\\core\\dense.py:87: UserWarning: Do not pass an `input_shape`/`input_dim` argument to a layer. When using Sequential models, prefer using an `Input(shape)` object as the first layer in the model instead.\n",
      "  super().__init__(activity_regularizer=activity_regularizer, **kwargs)\n"
     ]
    },
    {
     "name": "stdout",
     "output_type": "stream",
     "text": [
      "\u001b[1m25/25\u001b[0m \u001b[32m━━━━━━━━━━━━━━━━━━━━\u001b[0m\u001b[37m\u001b[0m \u001b[1m0s\u001b[0m 3ms/step\n"
     ]
    },
    {
     "name": "stderr",
     "output_type": "stream",
     "text": [
      " 49%|████▊     | 18/37 [04:12<06:41, 21.12s/it]c:\\Users\\robert.mudron\\AppData\\Local\\Programs\\Python\\Python311\\Lib\\site-packages\\keras\\src\\layers\\core\\dense.py:87: UserWarning: Do not pass an `input_shape`/`input_dim` argument to a layer. When using Sequential models, prefer using an `Input(shape)` object as the first layer in the model instead.\n",
      "  super().__init__(activity_regularizer=activity_regularizer, **kwargs)\n"
     ]
    },
    {
     "name": "stdout",
     "output_type": "stream",
     "text": [
      "\u001b[1m25/25\u001b[0m \u001b[32m━━━━━━━━━━━━━━━━━━━━\u001b[0m\u001b[37m\u001b[0m \u001b[1m0s\u001b[0m 3ms/step\n"
     ]
    },
    {
     "name": "stderr",
     "output_type": "stream",
     "text": [
      " 51%|█████▏    | 19/37 [04:50<07:51, 26.17s/it]c:\\Users\\robert.mudron\\AppData\\Local\\Programs\\Python\\Python311\\Lib\\site-packages\\keras\\src\\layers\\core\\dense.py:87: UserWarning: Do not pass an `input_shape`/`input_dim` argument to a layer. When using Sequential models, prefer using an `Input(shape)` object as the first layer in the model instead.\n",
      "  super().__init__(activity_regularizer=activity_regularizer, **kwargs)\n"
     ]
    },
    {
     "name": "stdout",
     "output_type": "stream",
     "text": [
      "\u001b[1m25/25\u001b[0m \u001b[32m━━━━━━━━━━━━━━━━━━━━\u001b[0m\u001b[37m\u001b[0m \u001b[1m0s\u001b[0m 3ms/step\n"
     ]
    },
    {
     "name": "stderr",
     "output_type": "stream",
     "text": [
      " 54%|█████▍    | 20/37 [05:19<07:39, 27.02s/it]c:\\Users\\robert.mudron\\AppData\\Local\\Programs\\Python\\Python311\\Lib\\site-packages\\keras\\src\\layers\\core\\dense.py:87: UserWarning: Do not pass an `input_shape`/`input_dim` argument to a layer. When using Sequential models, prefer using an `Input(shape)` object as the first layer in the model instead.\n",
      "  super().__init__(activity_regularizer=activity_regularizer, **kwargs)\n"
     ]
    },
    {
     "name": "stdout",
     "output_type": "stream",
     "text": [
      "\u001b[1m25/25\u001b[0m \u001b[32m━━━━━━━━━━━━━━━━━━━━\u001b[0m\u001b[37m\u001b[0m \u001b[1m0s\u001b[0m 3ms/step\n"
     ]
    },
    {
     "name": "stderr",
     "output_type": "stream",
     "text": [
      " 57%|█████▋    | 21/37 [05:50<07:29, 28.07s/it]c:\\Users\\robert.mudron\\AppData\\Local\\Programs\\Python\\Python311\\Lib\\site-packages\\keras\\src\\layers\\core\\dense.py:87: UserWarning: Do not pass an `input_shape`/`input_dim` argument to a layer. When using Sequential models, prefer using an `Input(shape)` object as the first layer in the model instead.\n",
      "  super().__init__(activity_regularizer=activity_regularizer, **kwargs)\n"
     ]
    },
    {
     "name": "stdout",
     "output_type": "stream",
     "text": [
      "\u001b[1m26/26\u001b[0m \u001b[32m━━━━━━━━━━━━━━━━━━━━\u001b[0m\u001b[37m\u001b[0m \u001b[1m0s\u001b[0m 3ms/step\n"
     ]
    },
    {
     "name": "stderr",
     "output_type": "stream",
     "text": [
      " 59%|█████▉    | 22/37 [06:09<06:20, 25.40s/it]c:\\Users\\robert.mudron\\AppData\\Local\\Programs\\Python\\Python311\\Lib\\site-packages\\keras\\src\\layers\\core\\dense.py:87: UserWarning: Do not pass an `input_shape`/`input_dim` argument to a layer. When using Sequential models, prefer using an `Input(shape)` object as the first layer in the model instead.\n",
      "  super().__init__(activity_regularizer=activity_regularizer, **kwargs)\n"
     ]
    },
    {
     "name": "stdout",
     "output_type": "stream",
     "text": [
      "\u001b[1m26/26\u001b[0m \u001b[32m━━━━━━━━━━━━━━━━━━━━\u001b[0m\u001b[37m\u001b[0m \u001b[1m0s\u001b[0m 3ms/step\n"
     ]
    },
    {
     "name": "stderr",
     "output_type": "stream",
     "text": [
      " 62%|██████▏   | 23/37 [06:35<05:57, 25.53s/it]c:\\Users\\robert.mudron\\AppData\\Local\\Programs\\Python\\Python311\\Lib\\site-packages\\keras\\src\\layers\\core\\dense.py:87: UserWarning: Do not pass an `input_shape`/`input_dim` argument to a layer. When using Sequential models, prefer using an `Input(shape)` object as the first layer in the model instead.\n",
      "  super().__init__(activity_regularizer=activity_regularizer, **kwargs)\n"
     ]
    },
    {
     "name": "stdout",
     "output_type": "stream",
     "text": [
      "\u001b[1m26/26\u001b[0m \u001b[32m━━━━━━━━━━━━━━━━━━━━\u001b[0m\u001b[37m\u001b[0m \u001b[1m0s\u001b[0m 3ms/step\n"
     ]
    },
    {
     "name": "stderr",
     "output_type": "stream",
     "text": [
      " 65%|██████▍   | 24/37 [07:17<06:35, 30.40s/it]c:\\Users\\robert.mudron\\AppData\\Local\\Programs\\Python\\Python311\\Lib\\site-packages\\keras\\src\\layers\\core\\dense.py:87: UserWarning: Do not pass an `input_shape`/`input_dim` argument to a layer. When using Sequential models, prefer using an `Input(shape)` object as the first layer in the model instead.\n",
      "  super().__init__(activity_regularizer=activity_regularizer, **kwargs)\n"
     ]
    },
    {
     "name": "stdout",
     "output_type": "stream",
     "text": [
      "\u001b[1m21/21\u001b[0m \u001b[32m━━━━━━━━━━━━━━━━━━━━\u001b[0m\u001b[37m\u001b[0m \u001b[1m0s\u001b[0m 4ms/step\n"
     ]
    },
    {
     "name": "stderr",
     "output_type": "stream",
     "text": [
      " 68%|██████▊   | 25/37 [07:47<06:03, 30.30s/it]c:\\Users\\robert.mudron\\AppData\\Local\\Programs\\Python\\Python311\\Lib\\site-packages\\keras\\src\\layers\\core\\dense.py:87: UserWarning: Do not pass an `input_shape`/`input_dim` argument to a layer. When using Sequential models, prefer using an `Input(shape)` object as the first layer in the model instead.\n",
      "  super().__init__(activity_regularizer=activity_regularizer, **kwargs)\n"
     ]
    },
    {
     "name": "stdout",
     "output_type": "stream",
     "text": [
      "\u001b[1m26/26\u001b[0m \u001b[32m━━━━━━━━━━━━━━━━━━━━\u001b[0m\u001b[37m\u001b[0m \u001b[1m0s\u001b[0m 1ms/step \n"
     ]
    },
    {
     "name": "stderr",
     "output_type": "stream",
     "text": [
      " 70%|███████   | 26/37 [08:21<05:44, 31.34s/it]c:\\Users\\robert.mudron\\AppData\\Local\\Programs\\Python\\Python311\\Lib\\site-packages\\keras\\src\\layers\\core\\dense.py:87: UserWarning: Do not pass an `input_shape`/`input_dim` argument to a layer. When using Sequential models, prefer using an `Input(shape)` object as the first layer in the model instead.\n",
      "  super().__init__(activity_regularizer=activity_regularizer, **kwargs)\n"
     ]
    },
    {
     "name": "stdout",
     "output_type": "stream",
     "text": [
      "\u001b[1m27/27\u001b[0m \u001b[32m━━━━━━━━━━━━━━━━━━━━\u001b[0m\u001b[37m\u001b[0m \u001b[1m0s\u001b[0m 3ms/step\n"
     ]
    },
    {
     "name": "stderr",
     "output_type": "stream",
     "text": [
      " 73%|███████▎  | 27/37 [09:04<05:50, 35.02s/it]c:\\Users\\robert.mudron\\AppData\\Local\\Programs\\Python\\Python311\\Lib\\site-packages\\keras\\src\\layers\\core\\dense.py:87: UserWarning: Do not pass an `input_shape`/`input_dim` argument to a layer. When using Sequential models, prefer using an `Input(shape)` object as the first layer in the model instead.\n",
      "  super().__init__(activity_regularizer=activity_regularizer, **kwargs)\n"
     ]
    },
    {
     "name": "stdout",
     "output_type": "stream",
     "text": [
      "\u001b[1m11/11\u001b[0m \u001b[32m━━━━━━━━━━━━━━━━━━━━\u001b[0m\u001b[37m\u001b[0m \u001b[1m0s\u001b[0m 7ms/step\n"
     ]
    },
    {
     "name": "stderr",
     "output_type": "stream",
     "text": [
      " 76%|███████▌  | 28/37 [09:36<05:05, 33.94s/it]c:\\Users\\robert.mudron\\AppData\\Local\\Programs\\Python\\Python311\\Lib\\site-packages\\keras\\src\\layers\\core\\dense.py:87: UserWarning: Do not pass an `input_shape`/`input_dim` argument to a layer. When using Sequential models, prefer using an `Input(shape)` object as the first layer in the model instead.\n",
      "  super().__init__(activity_regularizer=activity_regularizer, **kwargs)\n"
     ]
    },
    {
     "name": "stdout",
     "output_type": "stream",
     "text": [
      "\u001b[1m27/27\u001b[0m \u001b[32m━━━━━━━━━━━━━━━━━━━━\u001b[0m\u001b[37m\u001b[0m \u001b[1m0s\u001b[0m 4ms/step\n"
     ]
    },
    {
     "name": "stderr",
     "output_type": "stream",
     "text": [
      " 78%|███████▊  | 29/37 [10:06<04:22, 32.87s/it]c:\\Users\\robert.mudron\\AppData\\Local\\Programs\\Python\\Python311\\Lib\\site-packages\\keras\\src\\layers\\core\\dense.py:87: UserWarning: Do not pass an `input_shape`/`input_dim` argument to a layer. When using Sequential models, prefer using an `Input(shape)` object as the first layer in the model instead.\n",
      "  super().__init__(activity_regularizer=activity_regularizer, **kwargs)\n"
     ]
    },
    {
     "name": "stdout",
     "output_type": "stream",
     "text": [
      "\u001b[1m27/27\u001b[0m \u001b[32m━━━━━━━━━━━━━━━━━━━━\u001b[0m\u001b[37m\u001b[0m \u001b[1m0s\u001b[0m 3ms/step\n"
     ]
    },
    {
     "name": "stderr",
     "output_type": "stream",
     "text": [
      " 81%|████████  | 30/37 [10:50<04:13, 36.19s/it]c:\\Users\\robert.mudron\\AppData\\Local\\Programs\\Python\\Python311\\Lib\\site-packages\\keras\\src\\layers\\core\\dense.py:87: UserWarning: Do not pass an `input_shape`/`input_dim` argument to a layer. When using Sequential models, prefer using an `Input(shape)` object as the first layer in the model instead.\n",
      "  super().__init__(activity_regularizer=activity_regularizer, **kwargs)\n"
     ]
    },
    {
     "name": "stdout",
     "output_type": "stream",
     "text": [
      "\u001b[1m27/27\u001b[0m \u001b[32m━━━━━━━━━━━━━━━━━━━━\u001b[0m\u001b[37m\u001b[0m \u001b[1m0s\u001b[0m 3ms/step\n"
     ]
    },
    {
     "name": "stderr",
     "output_type": "stream",
     "text": [
      " 84%|████████▍ | 31/37 [11:21<03:28, 34.75s/it]c:\\Users\\robert.mudron\\AppData\\Local\\Programs\\Python\\Python311\\Lib\\site-packages\\keras\\src\\layers\\core\\dense.py:87: UserWarning: Do not pass an `input_shape`/`input_dim` argument to a layer. When using Sequential models, prefer using an `Input(shape)` object as the first layer in the model instead.\n",
      "  super().__init__(activity_regularizer=activity_regularizer, **kwargs)\n"
     ]
    },
    {
     "name": "stdout",
     "output_type": "stream",
     "text": [
      "\u001b[1m27/27\u001b[0m \u001b[32m━━━━━━━━━━━━━━━━━━━━\u001b[0m\u001b[37m\u001b[0m \u001b[1m0s\u001b[0m 5ms/step\n"
     ]
    },
    {
     "name": "stderr",
     "output_type": "stream",
     "text": [
      " 86%|████████▋ | 32/37 [12:18<03:26, 41.30s/it]c:\\Users\\robert.mudron\\AppData\\Local\\Programs\\Python\\Python311\\Lib\\site-packages\\keras\\src\\layers\\core\\dense.py:87: UserWarning: Do not pass an `input_shape`/`input_dim` argument to a layer. When using Sequential models, prefer using an `Input(shape)` object as the first layer in the model instead.\n",
      "  super().__init__(activity_regularizer=activity_regularizer, **kwargs)\n"
     ]
    },
    {
     "name": "stdout",
     "output_type": "stream",
     "text": [
      "\u001b[1m26/26\u001b[0m \u001b[32m━━━━━━━━━━━━━━━━━━━━\u001b[0m\u001b[37m\u001b[0m \u001b[1m0s\u001b[0m 3ms/step\n"
     ]
    },
    {
     "name": "stderr",
     "output_type": "stream",
     "text": [
      " 89%|████████▉ | 33/37 [13:02<02:48, 42.11s/it]c:\\Users\\robert.mudron\\AppData\\Local\\Programs\\Python\\Python311\\Lib\\site-packages\\keras\\src\\layers\\core\\dense.py:87: UserWarning: Do not pass an `input_shape`/`input_dim` argument to a layer. When using Sequential models, prefer using an `Input(shape)` object as the first layer in the model instead.\n",
      "  super().__init__(activity_regularizer=activity_regularizer, **kwargs)\n"
     ]
    },
    {
     "name": "stdout",
     "output_type": "stream",
     "text": [
      "\u001b[1m27/27\u001b[0m \u001b[32m━━━━━━━━━━━━━━━━━━━━\u001b[0m\u001b[37m\u001b[0m \u001b[1m1s\u001b[0m 3ms/step \n"
     ]
    },
    {
     "name": "stderr",
     "output_type": "stream",
     "text": [
      " 92%|█████████▏| 34/37 [13:53<02:14, 44.79s/it]c:\\Users\\robert.mudron\\AppData\\Local\\Programs\\Python\\Python311\\Lib\\site-packages\\keras\\src\\layers\\core\\dense.py:87: UserWarning: Do not pass an `input_shape`/`input_dim` argument to a layer. When using Sequential models, prefer using an `Input(shape)` object as the first layer in the model instead.\n",
      "  super().__init__(activity_regularizer=activity_regularizer, **kwargs)\n"
     ]
    },
    {
     "name": "stdout",
     "output_type": "stream",
     "text": [
      "\u001b[1m27/27\u001b[0m \u001b[32m━━━━━━━━━━━━━━━━━━━━\u001b[0m\u001b[37m\u001b[0m \u001b[1m0s\u001b[0m 2ms/step\n"
     ]
    },
    {
     "name": "stderr",
     "output_type": "stream",
     "text": [
      " 95%|█████████▍| 35/37 [14:39<01:30, 45.15s/it]c:\\Users\\robert.mudron\\AppData\\Local\\Programs\\Python\\Python311\\Lib\\site-packages\\keras\\src\\layers\\core\\dense.py:87: UserWarning: Do not pass an `input_shape`/`input_dim` argument to a layer. When using Sequential models, prefer using an `Input(shape)` object as the first layer in the model instead.\n",
      "  super().__init__(activity_regularizer=activity_regularizer, **kwargs)\n"
     ]
    },
    {
     "name": "stdout",
     "output_type": "stream",
     "text": [
      "\u001b[1m27/27\u001b[0m \u001b[32m━━━━━━━━━━━━━━━━━━━━\u001b[0m\u001b[37m\u001b[0m \u001b[1m0s\u001b[0m 3ms/step\n"
     ]
    },
    {
     "name": "stderr",
     "output_type": "stream",
     "text": [
      " 97%|█████████▋| 36/37 [15:16<00:42, 42.89s/it]c:\\Users\\robert.mudron\\AppData\\Local\\Programs\\Python\\Python311\\Lib\\site-packages\\keras\\src\\layers\\core\\dense.py:87: UserWarning: Do not pass an `input_shape`/`input_dim` argument to a layer. When using Sequential models, prefer using an `Input(shape)` object as the first layer in the model instead.\n",
      "  super().__init__(activity_regularizer=activity_regularizer, **kwargs)\n"
     ]
    },
    {
     "name": "stdout",
     "output_type": "stream",
     "text": [
      "\u001b[1m28/28\u001b[0m \u001b[32m━━━━━━━━━━━━━━━━━━━━\u001b[0m\u001b[37m\u001b[0m \u001b[1m0s\u001b[0m 6ms/step\n"
     ]
    },
    {
     "name": "stderr",
     "output_type": "stream",
     "text": [
      "100%|██████████| 37/37 [15:55<00:00, 25.84s/it]\n"
     ]
    }
   ],
   "source": [
    "from tensorflow.keras.callbacks import EarlyStopping\n",
    "from tqdm import tqdm\n",
    "from tensorflow.keras.models import Sequential\n",
    "from tensorflow.keras.layers import Dense, Dropout\n",
    "from xgboost import XGBRegressor\n",
    "from sklearn.ensemble import RandomForestRegressor\n",
    "from sklearn.linear_model import Ridge\n",
    "import time\n",
    "\n",
    "# Store predictions\n",
    "predictions = []\n",
    "\n",
    "time_ridge = {\n",
    "    \"train\":[],\n",
    "    \"infer\":[],\n",
    "}\n",
    "\n",
    "time_forest = {\n",
    "    \"train\":[],\n",
    "    \"infer\":[],\n",
    "}\n",
    "\n",
    "time_xgb = {\n",
    "    \"train\":[],\n",
    "    \"infer\":[],\n",
    "}\n",
    "\n",
    "time_nn = {\n",
    "    \"train\":[],\n",
    "    \"infer\":[],\n",
    "}\n",
    "\n",
    "# Rolling training loop\n",
    "for gw in tqdm(range(2, df[\"GW\"].max() + 1)):  # Start predicting from GW 6\n",
    "    train_data = df[(df[\"GW\"] < gw) ]  # Last 5 GWs & (df[\"GW\"] >= gw - 5) vs all available GWs \n",
    "    test_data = df[df[\"GW\"] == gw]  # Predict for current GW\n",
    "\n",
    "    if train_data.empty or test_data.empty:\n",
    "        continue  # Skip if not enough data\n",
    "\n",
    "    # Train model\n",
    "    X_train = train_data[features]\n",
    "    y_train = train_data[\"target_xP\"]\n",
    "\n",
    "    model_ridge = Ridge(alpha=1.0)\n",
    "    model_forest = RandomForestRegressor(n_estimators=100, random_state=42)\n",
    "    model_xgb = XGBRegressor(n_estimators=200, learning_rate=0.05, max_depth=6, random_state=42)\n",
    "    model_nn = Sequential([\n",
    "    Dense(128, activation='relu', input_shape=(X_train.shape[1],)),\n",
    "    Dropout(0.2),\n",
    "    Dense(64, activation='relu'),\n",
    "    Dense(32, activation='relu'),\n",
    "    Dense(1)\n",
    "])\n",
    "\n",
    "    model_nn.compile(optimizer='adam', loss='mse')\n",
    "\n",
    "    early_stopping = EarlyStopping(\n",
    "        monitor='val_loss',  # or 'val_accuracy'\n",
    "        patience=5,          # number of epochs to wait before stopping\n",
    "        restore_best_weights=True,\n",
    "    )\n",
    "    start_time = time.time()\n",
    "    model_nn.fit(X_train, y_train, epochs=50, batch_size=16, validation_split=0.2, callbacks=[early_stopping], verbose=False)\n",
    "    train_time = time.time() - start_time\n",
    "    time_nn[\"train\"].append(train_time)\n",
    "\n",
    "    start_time = time.time()\n",
    "    model_ridge.fit(X_train, y_train)\n",
    "    train_time = time.time() - start_time\n",
    "    time_ridge[\"train\"].append(train_time)\n",
    "\n",
    "    start_time = time.time()\n",
    "    model_forest.fit(X_train, y_train)\n",
    "    train_time = time.time() - start_time\n",
    "    time_forest[\"train\"].append(train_time)\n",
    "\n",
    "    start_time = time.time()\n",
    "    model_xgb.fit(X_train, y_train)\n",
    "    train_time = time.time() - start_time\n",
    "    time_xgb[\"train\"].append(train_time)\n",
    "\n",
    "    # Predict xP for GW\n",
    "    X_test = test_data[features_pred]\n",
    "\n",
    "    X_test.rename(columns={\n",
    "        \"expected_goals\": \"goals_scored\",\n",
    "        \"expected_assists\": \"assists\",\n",
    "        \"expected_goals_conceded\": \"goals_conceded\",\n",
    "        \"expected_goal_involvements\": \"goal_involvements\"\n",
    "    }, inplace=True)\n",
    "\n",
    "    start_time = time.time()\n",
    "    test_data[\"predicted_xP_nn\"] = model_nn.predict(X_test)\n",
    "    infer_time = time.time() - start_time\n",
    "    time_nn[\"infer\"].append(infer_time)\n",
    "\n",
    "    start_time = time.time()\n",
    "    test_data[\"predicted_xP_ridge\"] = model_ridge.predict(X_test)\n",
    "    infer_time = time.time() - start_time\n",
    "    time_ridge[\"infer\"].append(infer_time)\n",
    "\n",
    "    start_time = time.time()\n",
    "    test_data[\"predicted_xP_forest\"] = model_forest.predict(X_test)\n",
    "    infer_time = time.time() - start_time\n",
    "    time_forest[\"infer\"].append(infer_time)\n",
    "\n",
    "    start_time = time.time()\n",
    "    test_data[\"predicted_xP_xgb\"] = model_xgb.predict(X_test)\n",
    "    infer_time = time.time() - start_time\n",
    "    time_xgb[\"infer\"].append(infer_time)\n",
    "\n",
    "    # Store results\n",
    "    predictions.append(test_data[[\"name\", \"GW\", \"predicted_xP_ridge\", \"predicted_xP_forest\", \"predicted_xP_xgb\", \"predicted_xP_nn\"]])\n",
    "    # predictions.append(test_data[[\"name\", \"GW\", \"predicted_xP_ridge\"]])\n",
    "\n",
    "# Combine predictions\n",
    "predictions_df = pd.concat(predictions)\n",
    "\n",
    "# Merge predictions with original dataframe\n",
    "df_with_predictions = df.merge(predictions_df, on=[\"name\", \"GW\"], how=\"left\")\n",
    "\n",
    "# Ensure the first 2 GWs contain only actual xP values by copying expected_points into predicted_xP\n",
    "df_with_predictions.loc[df_with_predictions[\"GW\"] <= 2, [\"predicted_xP_ridge\", \"predicted_xP_forest\", \"predicted_xP_xgb\", \"predicted_xP_nn\"]] = (\n",
    "    df_with_predictions[\"xP_inter\"]\n",
    ")\n",
    "\n",
    "# df_with_predictions.loc[df_with_predictions[\"GW\"] <= 2, [\"predicted_xP_ridge\"]] = (\n",
    "#     df_with_predictions[\"xP_inter\"]\n",
    "# )"
   ]
  },
  {
   "cell_type": "code",
   "execution_count": 5,
   "metadata": {},
   "outputs": [
    {
     "name": "stdout",
     "output_type": "stream",
     "text": [
      "1.2065265500867688 0.2865786745741561 0.0046816645441828545 23.972361571079976\n",
      "0.02448553652376742 0.005651995942399309 0.0017117294105323585 0.26285804928960027\n"
     ]
    }
   ],
   "source": [
    "# Timing results\n",
    "\n",
    "from statistics import mean\n",
    "\n",
    "print(\n",
    "mean(time_forest['train']),\n",
    "mean(time_xgb['train']),\n",
    "mean(time_ridge['train']),\n",
    "mean(time_nn['train']),\n",
    ")\n",
    "\n",
    "print(\n",
    "mean(time_forest['infer']),\n",
    "mean(time_xgb['infer']),\n",
    "mean(time_ridge['infer']),\n",
    "mean(time_nn['infer']),\n",
    ")"
   ]
  },
  {
   "cell_type": "code",
   "execution_count": 7,
   "metadata": {},
   "outputs": [],
   "source": [
    "df_with_predictions.to_pickle('ml_results/results_ml.pkl',)\n",
    "# df_with_predictions.to_csv('results_ml.csv', index=False, header=True, encoding='utf-8-sig')\n",
    "# df_with_predictions = pd.read_pickle('ml_results/results_ml.pkl')"
   ]
  },
  {
   "cell_type": "markdown",
   "metadata": {},
   "source": [
    "# 4. Linear programming model for the final selection"
   ]
  },
  {
   "cell_type": "code",
   "execution_count": 8,
   "metadata": {},
   "outputs": [],
   "source": [
    "# Linear programming model\n",
    "import pulp\n",
    "\n",
    "\n",
    "def select_initial_squad(\n",
    "    df: pd.DataFrame, optimize_for=\"total_points\", return_team=False\n",
    "):\n",
    "    \"\"\"\n",
    "    Selecting the initial squad consisting of 15 players (2 GK, 5 DEF, 5 MID, 3 FWD).\n",
    "    Consting up to 1000 (100 mil.). Containing maximum of 3 players from a particular team.\n",
    "\n",
    "    Optionally a metric to optimize for can be chosen.\n",
    "    \"\"\"\n",
    "\n",
    "    df.reset_index(inplace=True, drop=True)\n",
    "    num_players = len(df)\n",
    "    model = pulp.LpProblem(\"Squad_selection_FPL_initial\", pulp.LpMaximize)\n",
    "    # Binary variable denoting if a player is selected or not\n",
    "    decisions = [\n",
    "        pulp.LpVariable(f\"x{i}\", lowBound=0, upBound=1, cat=\"Integer\")\n",
    "        for i in range(num_players)\n",
    "    ]\n",
    "\n",
    "    # Objective function\n",
    "    model += (\n",
    "        sum(decisions[i] * (df[optimize_for][i]) for i in range(num_players)),\n",
    "        \"Objective function\",\n",
    "    )\n",
    "\n",
    "    # Cost constraint\n",
    "    model += sum(decisions[i] * df[\"value\"][i] for i in range(num_players)) <= 1000\n",
    "\n",
    "    # Total team size\n",
    "    model += sum(decisions) == 15\n",
    "\n",
    "    # Number of players from 1 team constraint\n",
    "    for team in df[\"team\"].unique():\n",
    "        model += (\n",
    "            sum(decisions[i] for i in range(num_players) if df[\"team\"][i] == team) <= 3\n",
    "        )\n",
    "\n",
    "    # Player positions constraints\n",
    "    model += (\n",
    "        sum(decisions[i] for i in range(num_players) if df[\"position\"][i] == \"GK\") == 2\n",
    "    )\n",
    "    model += (\n",
    "        sum(decisions[i] for i in range(num_players) if df[\"position\"][i] == \"DEF\") == 5\n",
    "    )\n",
    "    model += (\n",
    "        sum(decisions[i] for i in range(num_players) if df[\"position\"][i] == \"MID\") == 5\n",
    "    )\n",
    "    model += (\n",
    "        sum(decisions[i] for i in range(num_players) if df[\"position\"][i] == \"FWD\") == 3\n",
    "    )\n",
    "\n",
    "    model.solve()\n",
    "\n",
    "    if return_team:\n",
    "        selected_team = [int(i.name[1:]) for i in model.variables() if i.value() > 0.0]\n",
    "\n",
    "        return df[df.index.isin(selected_team)]\n",
    "\n",
    "\n",
    "def select_starting_eleven(\n",
    "    df: pd.DataFrame, optimize_for=\"total_points\", return_team=False\n",
    "):\n",
    "    \"\"\"\n",
    "    Selecting the starting squad consisting of 11 players (1 GK, min 3 DEF, min 0 MID, min 1 FWD).\n",
    "\n",
    "    Optionally a metric to optimize for can be chosen.\n",
    "    \"\"\"\n",
    "\n",
    "    df.reset_index(inplace=True, drop=True)\n",
    "    num_players = len(df)\n",
    "    model = pulp.LpProblem(\"Squad_selection_FPL_final\", pulp.LpMaximize)\n",
    "\n",
    "    decisions = [\n",
    "        pulp.LpVariable(f\"x{i}\", lowBound=0, upBound=1, cat=\"Integer\")\n",
    "        for i in range(num_players)\n",
    "    ]\n",
    "\n",
    "    model += (\n",
    "        sum(decisions[i] * (df[optimize_for][i]) for i in range(num_players)),\n",
    "        \"Objective function\",\n",
    "    )\n",
    "\n",
    "    # Total team size\n",
    "    model += sum(decisions) == 11\n",
    "    model += (\n",
    "        sum(decisions[i] for i in range(num_players) if df[\"position\"][i] == \"GK\") == 1\n",
    "    )\n",
    "    model += (\n",
    "        sum(decisions[i] for i in range(num_players) if df[\"position\"][i] == \"DEF\") >= 3\n",
    "    )\n",
    "    model += (\n",
    "        sum(decisions[i] for i in range(num_players) if df[\"position\"][i] == \"FWD\") >= 1\n",
    "    )\n",
    "\n",
    "    model.solve()\n",
    "\n",
    "    if return_team:\n",
    "        selected_team = [int(i.name[1:]) for i in model.variables() if i.value() > 0.0]\n",
    "\n",
    "        return df[df.index.isin(selected_team)]"
   ]
  },
  {
   "cell_type": "markdown",
   "metadata": {},
   "source": [
    "# 5. Run the model"
   ]
  },
  {
   "cell_type": "code",
   "execution_count": 29,
   "metadata": {},
   "outputs": [
    {
     "name": "stdout",
     "output_type": "stream",
     "text": [
      "GW 1 totw: 127 pred: 50 rmse: 77.0 mae: 77.0 mape: 0.61\n",
      "GW 2 totw: 131 pred: 87 rmse: 62.71 mae: 60.5 mape: 0.47\n",
      "GW 3 totw: 141 pred: 109 rmse: 54.43 mae: 51.0 mape: 0.39\n",
      "GW 4 totw: 142 pred: 102 rmse: 51.21 mae: 48.25 mape: 0.36\n",
      "GW 5 totw: 109 pred: 67 rmse: 49.5 mae: 47.0 mape: 0.37\n",
      "GW 6 totw: 140 pred: 119 rmse: 46.0 mae: 42.67 mape: 0.33\n",
      "GW 7 totw: 144 pred: 111 rmse: 44.37 mae: 41.29 mape: 0.32\n",
      "GW 8 totw: 136 pred: 94 rmse: 44.08 mae: 41.38 mape: 0.32\n",
      "GW 9 totw: 137 pred: 100 rmse: 43.35 mae: 40.89 mape: 0.31\n",
      "GW 10 totw: 132 pred: 98 rmse: 42.51 mae: 40.2 mape: 0.31\n",
      "GW 11 totw: 150 pred: 93 rmse: 44.03 mae: 41.73 mape: 0.31\n",
      "GW 12 totw: 140 pred: 113 rmse: 42.87 mae: 40.5 mape: 0.3\n",
      "GW 13 totw: 129 pred: 114 rmse: 41.39 mae: 38.54 mape: 0.29\n",
      "GW 14 totw: 127 pred: 85 rmse: 41.44 mae: 38.79 mape: 0.29\n",
      "GW 15 totw: 144 pred: 94 rmse: 42.06 mae: 39.53 mape: 0.29\n",
      "GW 16 totw: 131 pred: 107 rmse: 41.17 mae: 38.56 mape: 0.29\n",
      "GW 17 totw: 138 pred: 106 rmse: 40.68 mae: 38.18 mape: 0.28\n",
      "GW 18 totw: 117 pred: 86 rmse: 40.21 mae: 37.78 mape: 0.28\n",
      "GW 19 totw: 138 pred: 109 rmse: 39.7 mae: 37.32 mape: 0.28\n",
      "GW 20 totw: 143 pred: 115 rmse: 39.2 mae: 36.85 mape: 0.28\n",
      "GW 21 totw: 132 pred: 104 rmse: 38.74 mae: 36.43 mape: 0.27\n",
      "GW 22 totw: 153 pred: 131 rmse: 38.13 mae: 35.77 mape: 0.27\n",
      "GW 23 totw: 154 pred: 119 rmse: 38.0 mae: 35.74 mape: 0.26\n",
      "GW 24 totw: 141 pred: 87 rmse: 38.8 mae: 36.5 mape: 0.27\n",
      "GW 25 totw: 151 pred: 103 rmse: 39.21 mae: 36.96 mape: 0.27\n",
      "GW 26 totw: 140 pred: 99 rmse: 39.28 mae: 37.12 mape: 0.27\n",
      "GW 27 totw: 138 pred: 93 rmse: 39.51 mae: 37.41 mape: 0.27\n",
      "GW 28 totw: 134 pred: 100 rmse: 39.32 mae: 37.29 mape: 0.27\n",
      "GW 29 totw: 96 pred: 76 rmse: 38.82 mae: 36.69 mape: 0.27\n",
      "GW 30 totw: 140 pred: 99 rmse: 38.89 mae: 36.83 mape: 0.27\n",
      "GW 31 totw: 135 pred: 108 rmse: 38.57 mae: 36.52 mape: 0.27\n",
      "GW 32 totw: 126 pred: 75 rmse: 39.02 mae: 36.97 mape: 0.27\n",
      "GW 33 totw: 161 pred: 130 rmse: 38.8 mae: 36.79 mape: 0.27\n",
      "GW 34 totw: 205 pred: 194 rmse: 38.27 mae: 36.03 mape: 0.27\n",
      "GW 35 totw: 148 pred: 107 rmse: 38.35 mae: 36.17 mape: 0.27\n",
      "GW 36 totw: 158 pred: 106 rmse: 38.79 mae: 36.61 mape: 0.27\n",
      "GW 37 totw: 155 pred: 115 rmse: 38.83 mae: 36.7 mape: 0.27\n",
      "GW 38 totw: 165 pred: 98 rmse: 39.82 mae: 37.5 mape: 0.27\n"
     ]
    }
   ],
   "source": [
    "from sklearn.metrics import root_mean_squared_error, mean_absolute_error, mean_absolute_percentage_error\n",
    "import time\n",
    "\n",
    "# Load the team of the week benchmark data\n",
    "with open(\"data/totw_points.txt\", \"r\") as file:\n",
    "\n",
    "    totw_points = [int(line.strip()) for line in file]\n",
    "\n",
    "pred_points = []\n",
    "rmse = []\n",
    "l_mae = []\n",
    "l_mape = []\n",
    "squads = {'players': []}\n",
    "\n",
    "\n",
    "for i in range(1, 39):\n",
    "\n",
    "    df_ = df_with_predictions[(df_with_predictions[\"GW\"] == i)]\n",
    "    \n",
    "    gw_pred_bench = select_initial_squad(\n",
    "        df_, optimize_for=\"predicted_xP_ridge\", return_team=True\n",
    "    )\n",
    "    gw_pred = select_starting_eleven(\n",
    "        gw_pred_bench, optimize_for=\"predicted_xP_ridge\", return_team=True\n",
    "    )\n",
    "    # pred_points.append(gw_pred.total_points.sum())\n",
    "    \n",
    "    squads[\"players\"].append(gw_pred)\n",
    "    pred_points.append(gw_pred.total_points.sum())\n",
    "\n",
    "    mse = root_mean_squared_error(totw_points[:i], pred_points)\n",
    "    mae = mean_absolute_error(totw_points[:i], pred_points)\n",
    "    mape = mean_absolute_percentage_error(totw_points[:i], pred_points)\n",
    "    rmse.append(mse)\n",
    "    l_mae.append(mae)\n",
    "    l_mape.append(mape)\n",
    "    print(f\"GW {i} totw: {totw_points[i-1]} pred: {gw_pred.total_points.sum()} rmse: {round(mse, 2)} mae: {round(mae, 2)} mape: {round(mape, 2)}\")"
   ]
  },
  {
   "cell_type": "markdown",
   "metadata": {},
   "source": [
    "# 6. Visualize the run"
   ]
  },
  {
   "cell_type": "code",
   "execution_count": 24,
   "metadata": {},
   "outputs": [
    {
     "data": {
      "image/png": "[encoded data removed]",
      "text/plain": [
       "<Figure size 1000x600 with 2 Axes>"
      ]
     },
     "metadata": {},
     "output_type": "display_data"
    }
   ],
   "source": [
    "import matplotlib.pyplot as plt\n",
    "import numpy as np\n",
    "\n",
    "# Max achievable points (TOTW)\n",
    "max_points = totw_points\n",
    "indices = np.arange(1, len(max_points) + 1)\n",
    "# Points achieved by the model\n",
    "model_points = pred_points\n",
    "\n",
    "# Plotting canvas\n",
    "fig, ax1 = plt.subplots(figsize=(10, 6))\n",
    "bar_width = 0.4\n",
    "\n",
    "# Bars for max achievable points\n",
    "bar1 = ax1.bar(\n",
    "    indices,\n",
    "    max_points,\n",
    "    bar_width,\n",
    "    label=\"Max Achievable Points (TOTW)\",\n",
    "    color=\"lightgray\",\n",
    ")\n",
    "\n",
    "# Bars for model points achieved (overlapping)\n",
    "bar2 = ax1.bar(\n",
    "    indices,\n",
    "    model_points,\n",
    "    bar_width,\n",
    "    label=\"Points Achieved by Model\",\n",
    "    color=\"dodgerblue\",\n",
    ")\n",
    "\n",
    "# Secondary y-axis for RMSE\n",
    "ax2 = ax1.twinx()\n",
    "line = ax2.plot(indices, rmse, label=f\"RMSE={round(mse,2)}\", color=\"red\", marker=\"o\", linewidth=2)\n",
    "\n",
    "# Labels, title, and legend\n",
    "ax1.set_xlabel(\"Game Week\", fontsize=16)\n",
    "ax1.set_ylabel(\"Points\", fontsize=16)\n",
    "ax2.set_ylabel(\"RMSE\", fontsize=16)\n",
    "ax1.set_title(\"Ridge Linear Regression Model Performance\", fontsize=16)\n",
    "ax1.set_xticks(indices)\n",
    "ax1.legend(loc=\"upper left\", fontsize=12)\n",
    "ax2.legend(loc=\"upper right\", fontsize=12)\n",
    "\n",
    "plt.tight_layout()\n",
    "plt.show()"
   ]
  },
  {
   "cell_type": "markdown",
   "metadata": {},
   "source": [
    "# 5. Comparison statistics"
   ]
  },
  {
   "cell_type": "code",
   "execution_count": 18,
   "metadata": {},
   "outputs": [
    {
     "name": "stdout",
     "output_type": "stream",
     "text": [
      "rmse: 39.82428510608227, mae: 37.5, mape: 0.2706311734688443\n",
      "values: 726.3684210526316, total_pts: 102.71052631578948, exp_pts: 80.91578947368423\n",
      "total_pts_std: 21.902785084546522, exp_pts_std: 16.807243524833183, std_intra: 4.727413586291961\n"
     ]
    }
   ],
   "source": [
    "# Basic statistics\n",
    "\n",
    "from numpy import mean, std\n",
    "\n",
    "values = []\n",
    "total_pts = []\n",
    "xp_pts = []\n",
    "st_dev_intra = []\n",
    "for i in range(38):\n",
    "    values.append(squads['players'][i]['value'].sum())\n",
    "    total_pts.append(squads['players'][i]['total_points'].sum())\n",
    "    xp_pts.append(squads['players'][i]['xP_inter'].sum())\n",
    "    st_dev_intra.append(std(squads['players'][i]['total_points']))\n",
    "\n",
    "\n",
    "print(f\"rmse: {mse}, mae: {mae}, mape: {mape}\")\n",
    "print(f\"values: {mean(values)}, total_pts: {mean(total_pts)}, exp_pts: {mean(xp_pts)}\")\n",
    "print(f\"total_pts_std: {std(total_pts)}, exp_pts_std: {std(xp_pts)}, std_intra: {mean(st_dev_intra)}\")"
   ]
  },
  {
   "cell_type": "code",
   "execution_count": 30,
   "metadata": {},
   "outputs": [
    {
     "data": {
      "text/plain": [
       "0.3397129186602871"
      ]
     },
     "execution_count": 30,
     "metadata": {},
     "output_type": "execute_result"
    }
   ],
   "source": [
    "# Overlap of players from the best team (TOTW)\n",
    "\n",
    "df_totw = pd.read_pickle('data/df_totw.pkl')\n",
    "df_players = pd.DataFrame(squads['players'][0])\n",
    "\n",
    "for i in range(1,38):\n",
    "    df_players = pd.concat([df_players, pd.DataFrame(squads['players'][i])])\n",
    "\n",
    "overlap_pct = []\n",
    "for i in range(1, 39):\n",
    "    common_rows = df_totw[df_totw['GW'] == i].merge(df_players[df_players['GW'] == i], how='inner')\n",
    "    overlap_pct.append(len(common_rows)/11)\n",
    "\n",
    "\n",
    "mean(overlap_pct)"
   ]
  }
 ],
 "metadata": {
  "kernelspec": {
   "display_name": "Python 3",
   "language": "python",
   "name": "python3"
  },
  "language_info": {
   "codemirror_mode": {
    "name": "ipython",
    "version": 3
   },
   "file_extension": ".py",
   "mimetype": "text/x-python",
   "name": "python",
   "nbconvert_exporter": "python",
   "pygments_lexer": "ipython3",
   "version": "3.11.5"
  }
 },
 "nbformat": 4,
 "nbformat_minor": 2
}
